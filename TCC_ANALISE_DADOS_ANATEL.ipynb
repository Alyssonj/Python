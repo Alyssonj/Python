{
 "cells": [
  {
   "cell_type": "code",
   "execution_count": null,
   "id": "a8355a04",
   "metadata": {},
   "outputs": [],
   "source": [
    "import pandas as pd\n",
    "import os\n",
    "path='C:/Users/OI336798/Documents/TCC/Dados Anatel/'"
   ]
  },
  {
   "cell_type": "code",
   "execution_count": 2,
   "id": "8399155e",
   "metadata": {},
   "outputs": [],
   "source": [
    "arquivos=[]\n",
    "for x in os.listdir(path):\n",
    "    if x.endswith('.csv'):\n",
    "        arquivos.append(path+x)  "
   ]
  },
  {
   "cell_type": "code",
   "execution_count": 4,
   "id": "a2e34415",
   "metadata": {},
   "outputs": [
    {
     "data": {
      "text/plain": [
       "'C:/Users/OI336798/Documents/TCC/Dados Anatel/reclamacoes.csv'"
      ]
     },
     "execution_count": 4,
     "metadata": {},
     "output_type": "execute_result"
    }
   ],
   "source": [
    "arquivos[10]"
   ]
  },
  {
   "cell_type": "code",
   "execution_count": 5,
   "id": "8fdd32b6",
   "metadata": {},
   "outputs": [],
   "source": [
    "df = pd.read_csv(arquivos[10], delimiter=';', encoding='UTF-8')"
   ]
  },
  {
   "cell_type": "code",
   "execution_count": 13,
   "id": "011366f3",
   "metadata": {},
   "outputs": [
    {
     "data": {
      "text/html": [
       "<div>\n",
       "<style scoped>\n",
       "    .dataframe tbody tr th:only-of-type {\n",
       "        vertical-align: middle;\n",
       "    }\n",
       "\n",
       "    .dataframe tbody tr th {\n",
       "        vertical-align: top;\n",
       "    }\n",
       "\n",
       "    .dataframe thead th {\n",
       "        text-align: right;\n",
       "    }\n",
       "</style>\n",
       "<table border=\"1\" class=\"dataframe\">\n",
       "  <thead>\n",
       "    <tr style=\"text-align: right;\">\n",
       "      <th></th>\n",
       "      <th>DataExtracao</th>\n",
       "      <th>SOLICITAÇÕES</th>\n",
       "      <th>Ano</th>\n",
       "      <th>Mês</th>\n",
       "      <th>AnoMês</th>\n",
       "      <th>UF</th>\n",
       "      <th>Cidade</th>\n",
       "      <th>CO_MUNICIPIO</th>\n",
       "      <th>CanalEntrada</th>\n",
       "      <th>Condição</th>\n",
       "      <th>TipoAtendimento</th>\n",
       "      <th>Serviço</th>\n",
       "      <th>Marca</th>\n",
       "      <th>Assunto</th>\n",
       "      <th>Problema</th>\n",
       "    </tr>\n",
       "  </thead>\n",
       "  <tbody>\n",
       "    <tr>\n",
       "      <th>0</th>\n",
       "      <td>2018-04-23</td>\n",
       "      <td>1</td>\n",
       "      <td>2015</td>\n",
       "      <td>1</td>\n",
       "      <td>2015-01</td>\n",
       "      <td>DF</td>\n",
       "      <td>Brasília</td>\n",
       "      <td>5300108</td>\n",
       "      <td>SIC</td>\n",
       "      <td>Reencaminhada</td>\n",
       "      <td>Pedido de Informação</td>\n",
       "      <td>Outros</td>\n",
       "      <td>Outros</td>\n",
       "      <td>NÃO APLICÁVEL</td>\n",
       "      <td>SIC</td>\n",
       "    </tr>\n",
       "  </tbody>\n",
       "</table>\n",
       "</div>"
      ],
      "text/plain": [
       "  DataExtracao  SOLICITAÇÕES   Ano  Mês   AnoMês  UF    Cidade CO_MUNICIPIO  \\\n",
       "0   2018-04-23             1  2015    1  2015-01  DF  Brasília      5300108   \n",
       "\n",
       "  CanalEntrada       Condição       TipoAtendimento Serviço   Marca  \\\n",
       "0          SIC  Reencaminhada  Pedido de Informação  Outros  Outros   \n",
       "\n",
       "         Assunto Problema  \n",
       "0  NÃO APLICÁVEL      SIC  "
      ]
     },
     "execution_count": 13,
     "metadata": {},
     "output_type": "execute_result"
    }
   ],
   "source": [
    "df.head(1)"
   ]
  },
  {
   "cell_type": "code",
   "execution_count": 7,
   "id": "d29771fc",
   "metadata": {},
   "outputs": [
    {
     "name": "stdout",
     "output_type": "stream",
     "text": [
      "<class 'pandas.core.frame.DataFrame'>\n",
      "RangeIndex: 15952407 entries, 0 to 15952406\n",
      "Data columns (total 15 columns):\n",
      " #   Column           Dtype \n",
      "---  ------           ----- \n",
      " 0   DataExtracao     object\n",
      " 1   SOLICITAÇÕES     int64 \n",
      " 2   Ano              int64 \n",
      " 3   Mês              int64 \n",
      " 4   AnoMês           object\n",
      " 5   UF               object\n",
      " 6   Cidade           object\n",
      " 7   CO_MUNICIPIO     object\n",
      " 8   CanalEntrada     object\n",
      " 9   Condição         object\n",
      " 10  TipoAtendimento  object\n",
      " 11  Serviço          object\n",
      " 12  Marca            object\n",
      " 13  Assunto          object\n",
      " 14  Problema         object\n",
      "dtypes: int64(3), object(12)\n",
      "memory usage: 1.8+ GB\n"
     ]
    }
   ],
   "source": [
    "df.info()"
   ]
  },
  {
   "cell_type": "code",
   "execution_count": 62,
   "id": "97bdee30",
   "metadata": {},
   "outputs": [],
   "source": [
    "t = df.groupby(by=['Serviço','Problema']).size().reset_index(name=\"Count\")\n",
    "t.to_clipboard()"
   ]
  },
  {
   "cell_type": "code",
   "execution_count": null,
   "id": "d0fb10da",
   "metadata": {},
   "outputs": [],
   "source": [
    "for n in range(len(arquivos)):\n",
    "    globals()['DATA'+str(n)] = pd.read_csv(arquivos[n], delimiter=';', encoding='UTF-8')"
   ]
  },
  {
   "cell_type": "code",
   "execution_count": 52,
   "id": "31b58a0b",
   "metadata": {
    "scrolled": true
   },
   "outputs": [
    {
     "name": "stdout",
     "output_type": "stream",
     "text": [
      "<class 'pandas.core.frame.DataFrame'>\n",
      "RangeIndex: 5789372 entries, 0 to 5789371\n",
      "Data columns (total 11 columns):\n",
      " #   Column                      Dtype  \n",
      "---  ------                      -----  \n",
      " 0   Ano                         float64\n",
      " 1   Mês                         float64\n",
      " 2   razao_social                object \n",
      " 3   cnpj                        object \n",
      " 4   velocidade_contratada_mbps  object \n",
      " 5   uf                          object \n",
      " 6   municipio                   object \n",
      " 7   codigo_ibge                 float64\n",
      " 8   acessos                     float64\n",
      " 9   tipo                        object \n",
      " 10  municipio_uf                object \n",
      "dtypes: float64(4), object(7)\n",
      "memory usage: 485.9+ MB\n",
      "None\n"
     ]
    }
   ],
   "source": [
    "print(DATA12.info())"
   ]
  },
  {
   "cell_type": "code",
   "execution_count": 55,
   "id": "9d7c1c9a",
   "metadata": {
    "scrolled": true
   },
   "outputs": [],
   "source": [
    "DATA12.head(100).to_clipboard()"
   ]
  }
 ],
 "metadata": {
  "kernelspec": {
   "display_name": "Python 3 (ipykernel)",
   "language": "python",
   "name": "python3"
  },
  "language_info": {
   "codemirror_mode": {
    "name": "ipython",
    "version": 3
   },
   "file_extension": ".py",
   "mimetype": "text/x-python",
   "name": "python",
   "nbconvert_exporter": "python",
   "pygments_lexer": "ipython3",
   "version": "3.9.7"
  }
 },
 "nbformat": 4,
 "nbformat_minor": 5
}
