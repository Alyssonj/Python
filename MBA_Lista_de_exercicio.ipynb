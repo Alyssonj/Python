{
  "cells": [
    {
      "cell_type": "markdown",
      "metadata": {
        "id": "view-in-github",
        "colab_type": "text"
      },
      "source": [
        "<a href=\"https://colab.research.google.com/github/Alyssonj/Python/blob/main/MBA_Lista_de_exercicio.ipynb\" target=\"_parent\"><img src=\"https://colab.research.google.com/assets/colab-badge.svg\" alt=\"Open In Colab\"/></a>"
      ]
    },
    {
      "cell_type": "markdown",
      "metadata": {
        "id": "FoTGQNMXVeRJ"
      },
      "source": [
        "# Lista de Exercícios"
      ]
    },
    {
      "cell_type": "markdown",
      "metadata": {
        "id": "sXITKezfVeRJ"
      },
      "source": [
        "# Exercício 1:\n",
        "\n",
        "Faça um programa, definindo uma função, para calcular a temperatura em graus Celsius a partir de uma temperatura em graus Farenheit.\n",
        "\n",
        "\\begin{equation}\n",
        "    T_c=5(T_f-32)/9\n",
        "\\end{equation}"
      ]
    },
    {
      "cell_type": "code",
      "execution_count": null,
      "metadata": {
        "id": "y7_HXmjSVeRK",
        "colab": {
          "base_uri": "https://localhost:8080/"
        },
        "outputId": "f15a080b-9cc6-4c68-aea5-cf03ae4cc5e6"
      },
      "outputs": [
        {
          "output_type": "stream",
          "name": "stdout",
          "text": [
            "Qual Temperatura? 38\n",
            "14.355555555555556\n"
          ]
        }
      ],
      "source": [
        "T = int(input('Qual Temperatura? '))\n",
        "def converter (tf):\n",
        "  tc=(5*(tf-32))/9\n",
        "  return tc\n",
        "\n",
        "#tf_teste = 100\n",
        "#tc = converter(tf_teste)\n",
        "\n",
        "print(T*tc/100)"
      ]
    },
    {
      "cell_type": "markdown",
      "metadata": {
        "id": "QAP0kX5JVeRL"
      },
      "source": [
        "# Exercício 2:\n",
        "\n",
        "Faça um programa, definindo uma função, para calcular a média final alcançada por um aluno e apresentar:\n",
        "\n",
        "1. A mensagem \"Aprovado\", se a média for maior ou igual a 7, com o respectivo valor da média;<br>\n",
        "2. A mensagem \"Reprovado\", se a média for menor do que 7, com o respectivo valor da média;<br>\n",
        "3. A mensagem \"Aprovado com Distinção\", se a média for igual a 10.\n",
        "\n",
        "Dica: Suponha que as notas desse aluno estejam em uma lista (Não é a única forma de fazer)."
      ]
    },
    {
      "cell_type": "code",
      "execution_count": null,
      "metadata": {
        "id": "ly-SlXiiVeRL",
        "colab": {
          "base_uri": "https://localhost:8080/"
        },
        "outputId": "34b407a6-23ac-4be7-b0d8-a8f4fd36daff"
      },
      "outputs": [
        {
          "output_type": "stream",
          "name": "stdout",
          "text": [
            "Qual sua nota_1:9\n",
            "Qual sua nota_2:8\n",
            "Qual sua nota_3:8\n",
            "Qual sua nota_3:9\n",
            "Aprovado!\n"
          ]
        }
      ],
      "source": [
        "n1 = int(input('Qual sua nota_1:'))\n",
        "n2 = int(input('Qual sua nota_2:'))\n",
        "n3 = int(input('Qual sua nota_3:'))\n",
        "n4 = int(input('Qual sua nota_3:'))\n",
        "nf = ((n1+n2+n3+n4)/4)\n",
        "if nf<7: \n",
        "  print('Reprovado')\n",
        "elif nf==10:\n",
        "  print('Aprovado com Distinção!!')\n",
        "elif nf>=7:\n",
        "  print('Aprovado!')\n",
        "else:\n",
        "  print('Boa!')"
      ]
    },
    {
      "cell_type": "markdown",
      "metadata": {
        "id": "m-e5N2brVeRL"
      },
      "source": [
        "# Exercício 3:\n",
        "\n",
        "Você foi contratado por uma padaria para desenvolver um programa para montar a tabela digital de preços de pães, de 1 até 50 pães. Essa tabela deve ser atualizada diariamente a partir do preço do pão informado pelo gerente, conforme o exemplo abaixo:\n",
        "\n",
        "Número de pães | Preço (R\\$)\n",
        "---------------|------------\n",
        "1              | 0.18\n",
        "2              | 0.36\n",
        "$\\vdots$       | $\\vdots$\n",
        "50             | 9.00"
      ]
    },
    {
      "cell_type": "code",
      "source": [
        "Vp=float(input('Valor:'))\n",
        "for pao in range(1,51):\n",
        "  print(pao,'x',Vp,'=',pao*Vp)"
      ],
      "metadata": {
        "colab": {
          "base_uri": "https://localhost:8080/"
        },
        "id": "Tpzk8dHeoMgi",
        "outputId": "bc1f0141-ff95-45d2-f18e-f324129819c6"
      },
      "execution_count": 3,
      "outputs": [
        {
          "output_type": "stream",
          "name": "stdout",
          "text": [
            "Valor:3\n",
            "1 x 3.0 = 3.0\n",
            "2 x 3.0 = 6.0\n",
            "3 x 3.0 = 9.0\n",
            "4 x 3.0 = 12.0\n",
            "5 x 3.0 = 15.0\n",
            "6 x 3.0 = 18.0\n",
            "7 x 3.0 = 21.0\n",
            "8 x 3.0 = 24.0\n",
            "9 x 3.0 = 27.0\n",
            "10 x 3.0 = 30.0\n",
            "11 x 3.0 = 33.0\n",
            "12 x 3.0 = 36.0\n",
            "13 x 3.0 = 39.0\n",
            "14 x 3.0 = 42.0\n",
            "15 x 3.0 = 45.0\n",
            "16 x 3.0 = 48.0\n",
            "17 x 3.0 = 51.0\n",
            "18 x 3.0 = 54.0\n",
            "19 x 3.0 = 57.0\n",
            "20 x 3.0 = 60.0\n",
            "21 x 3.0 = 63.0\n",
            "22 x 3.0 = 66.0\n",
            "23 x 3.0 = 69.0\n",
            "24 x 3.0 = 72.0\n",
            "25 x 3.0 = 75.0\n",
            "26 x 3.0 = 78.0\n",
            "27 x 3.0 = 81.0\n",
            "28 x 3.0 = 84.0\n",
            "29 x 3.0 = 87.0\n",
            "30 x 3.0 = 90.0\n",
            "31 x 3.0 = 93.0\n",
            "32 x 3.0 = 96.0\n",
            "33 x 3.0 = 99.0\n",
            "34 x 3.0 = 102.0\n",
            "35 x 3.0 = 105.0\n",
            "36 x 3.0 = 108.0\n",
            "37 x 3.0 = 111.0\n",
            "38 x 3.0 = 114.0\n",
            "39 x 3.0 = 117.0\n",
            "40 x 3.0 = 120.0\n",
            "41 x 3.0 = 123.0\n",
            "42 x 3.0 = 126.0\n",
            "43 x 3.0 = 129.0\n",
            "44 x 3.0 = 132.0\n",
            "45 x 3.0 = 135.0\n",
            "46 x 3.0 = 138.0\n",
            "47 x 3.0 = 141.0\n",
            "48 x 3.0 = 144.0\n",
            "49 x 3.0 = 147.0\n",
            "50 x 3.0 = 150.0\n"
          ]
        }
      ]
    },
    {
      "cell_type": "markdown",
      "source": [
        "# Exercício 4:\n",
        "\n",
        "Você foi contratado por uma agência de detetives para emitir uma classificação sobre a participação de pessoas suspeitas em um crime. Cada pessoa suspeita respondeu as seguintes perguntas:\n",
        "\n",
        "1. \"Você matou a vítima?\"<br>\n",
        "2. \"Você esteve com ela no dia de sua morte?\"<br>\n",
        "3. \"Você esteve no local do crime?\"<br>\n",
        "4. \"Você mora perto da vítima?\"<br>\n",
        "5. \"Você devia dinheiro para a vítima?\"<br>\n",
        "\n",
        "Considere que:\n",
        "\n",
        "1. Se uma pessoa responder positivamente a primeira pergunta, ela deve ser classificada como \"Assassina\";\n",
        "2. Se ela responder positivamente a 2 ou 3 questões (que não sejam a primeira), ela deve ser classificada como \"Suspeita\";\n",
        "3. Se ela responder positivamente a 4 questões (que não sejam a primeira), ela deve ser classificada como \"Cúmplice\";\n",
        "4. Caso contrário, ela será classificada como \"Inocente\"."
      ],
      "metadata": {
        "id": "BUDjRyDSfxAS"
      }
    },
    {
      "cell_type": "code",
      "source": [
        "p1 = str(input('Você matou a vítima?'))\n",
        "p2 = str(input('Você esteve com ela no dia de sua morte?'))\n",
        "p3 = str(input('Você esteve no local do crime?'))\n",
        "p4 = str(input('Você mora perto da vítima?'))\n",
        "p5 = str(input('Você devia dinheiro para a vítima?'))\n",
        "\n",
        "if p1=='Sim': \n",
        "  print('Assassina')\n",
        "elif p2=='Sim' and p3=='Sim' and p4=='Sim' and p5==\"Sim\":\n",
        "  print('Cúmplice')\n",
        "elif p2=='Sim' and p3=='Sim' or p3=='Sim' and p4=='Sim' or p4=='Sim' and p5=='Sim' or p2=='Sim' and p4=='Sim' or p2=='Sim' and p5=='Sim' or sp3=='Sim' and p5=='Sim' or p2=='Sim' and p3=='Sim' and p4=='Sim':\n",
        "  print('Suspeita')\n",
        "else:\n",
        "  print('Inocente')"
      ],
      "metadata": {
        "id": "S3aG83UtfxH2",
        "colab": {
          "base_uri": "https://localhost:8080/"
        },
        "outputId": "4c0de991-c838-4ad4-b9d7-008336348e87"
      },
      "execution_count": null,
      "outputs": [
        {
          "output_type": "stream",
          "name": "stdout",
          "text": [
            "Você matou a vítima?Nao\n",
            "Você esteve com ela no dia de sua morte?Sim\n",
            "Você esteve no local do crime?Nao\n",
            "Você mora perto da vítima?Nao\n",
            "Você devia dinheiro para a vítima?Sim\n",
            "Suspeita\n"
          ]
        }
      ]
    },
    {
      "cell_type": "markdown",
      "metadata": {
        "id": "WHoZTSQFVeRL"
      },
      "source": [
        "# Exercício 5:\n",
        "\n",
        "Você trabalha para um banco e quer fazer uma função pra decidir se aprova ou não o empréstimo bancário para a compra de uma casa. Dado o valor da casa, o salário do comprador e a quantidade de anos que será pago o empréstimo, diga se um trabalhador que foi pedir empréstimo no seu banco vai receber o dinheiro ou não. Considere que a prestação mensal não pode exceder 30% para aprovação."
      ]
    },
    {
      "cell_type": "code",
      "execution_count": null,
      "metadata": {
        "id": "CAPKigwdVeRL",
        "colab": {
          "base_uri": "https://localhost:8080/"
        },
        "outputId": "faa45a84-3ca9-41a7-d548-03c6556b16a6"
      },
      "outputs": [
        {
          "output_type": "stream",
          "name": "stdout",
          "text": [
            "Valor da Casa:400000\n",
            "Renda Mensal:6900\n",
            "Quantidade de Anos:2\n",
            "Infelizmente seu empréstimo foi recusado!\n"
          ]
        }
      ],
      "source": [
        "V1=int(input('Valor da Casa:'))\n",
        "V2=int(input('Renda Mensal:'))\n",
        "V3=int(input('Quantidade de Anos:'))\n",
        "\n",
        "Emprestimo = (V1/(V3*12)) * 0.036\n",
        "Emprestimo_Final = (V1/(V3*12)) + Emprestimo\n",
        "\n",
        "Comparacao_Renda = ((V2*100)/Emprestimo_Final)\n",
        "\n",
        "if Comparacao_Renda > 130:\n",
        "  print('Seu empréstimo foi aprovado, parabéns!')\n",
        "else:\n",
        "  print('Infelizmente seu empréstimo foi recusado!')"
      ]
    },
    {
      "cell_type": "markdown",
      "metadata": {
        "id": "C9jWphtGVeRM"
      },
      "source": [
        "# Exercício 6:\n",
        "\n",
        "Faça uma função para gerar os $n$ ($n\\ge3$) primeiros elementos da sequência de Fibonacci, supondo que o primeiro e o segundo elemento seja 0 e 1, respectivamente."
      ]
    },
    {
      "cell_type": "code",
      "source": [
        "Fn0=0\n",
        "Fn1=1\n",
        "for i in range(0,5):\n",
        "  print(Fn0)\n",
        "  Fn=Fn0+Fn1\n",
        "  Fn0=Fn1\n",
        "  Fn1=Fn"
      ],
      "metadata": {
        "colab": {
          "base_uri": "https://localhost:8080/"
        },
        "id": "o00gQLo8go3H",
        "outputId": "f462f05a-00cf-48a2-e50b-e7a32c722386"
      },
      "execution_count": null,
      "outputs": [
        {
          "output_type": "stream",
          "name": "stdout",
          "text": [
            "0\n",
            "1\n",
            "1\n",
            "2\n",
            "3\n"
          ]
        }
      ]
    }
  ],
  "metadata": {
    "kernelspec": {
      "display_name": "Python 3 (ipykernel)",
      "language": "python",
      "name": "python3"
    },
    "language_info": {
      "codemirror_mode": {
        "name": "ipython",
        "version": 3
      },
      "file_extension": ".py",
      "mimetype": "text/x-python",
      "name": "python",
      "nbconvert_exporter": "python",
      "pygments_lexer": "ipython3",
      "version": "3.10.1"
    },
    "colab": {
      "name": "MBA - Lista de exercicio.ipynb",
      "provenance": [],
      "include_colab_link": true
    }
  },
  "nbformat": 4,
  "nbformat_minor": 0
}