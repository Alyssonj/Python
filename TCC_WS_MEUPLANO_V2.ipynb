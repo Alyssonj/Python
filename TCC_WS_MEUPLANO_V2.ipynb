{
 "cells": [
  {
   "cell_type": "code",
   "execution_count": 2,
   "id": "55fe4e42",
   "metadata": {},
   "outputs": [],
   "source": [
    "from selenium import webdriver\n",
    "from selenium.webdriver.support import expected_conditions as EC\n",
    "from selenium.webdriver.common.by import By\n",
    "from selenium.webdriver.support.ui import WebDriverWait\n",
    "import time\n",
    "import pandas as pd"
   ]
  },
  {
   "cell_type": "code",
   "execution_count": 3,
   "id": "101dcc21",
   "metadata": {},
   "outputs": [],
   "source": [
    "### variaveis\n",
    "DELAY = 1\n",
    "WAIT = 30\n",
    "outdir = 'C:/Users/OI336798/Documents/TCC/WS/'\n",
    "file = 'meuplano.csv'\n",
    "file2 = 'capitaias_meu_plano.xlsx'"
   ]
  },
  {
   "cell_type": "code",
   "execution_count": 13,
   "id": "455a1208",
   "metadata": {},
   "outputs": [],
   "source": [
    "# Definindo data para pegar os arquivos\n",
    "from datetime import date,datetime,timedelta\n",
    "hoje = date.today()\n",
    "ds=datetime.today().isoweekday()\n",
    "\n",
    "if ds==1:\n",
    "    i = 0\n",
    "    f = 5    \n",
    "elif ds==2:\n",
    "    i = 6\n",
    "    f = 11\n",
    "elif ds==3:\n",
    "    i = 12\n",
    "    f = 17\n",
    "elif ds==4:\n",
    "    i = 18\n",
    "    f = 23\n",
    "elif ds==5:\n",
    "    i = 24\n",
    "    f = 27\n",
    "else:\n",
    "    print('Final de semana')\n",
    "    i = 0\n",
    "    f = 0\n"
   ]
  },
  {
   "cell_type": "code",
   "execution_count": 13,
   "id": "3c157ff6",
   "metadata": {},
   "outputs": [
    {
     "name": "stderr",
     "output_type": "stream",
     "text": [
      "C:\\Users\\OI336798\\AppData\\Local\\Temp/ipykernel_1468/3783465624.py:19: DeprecationWarning: executable_path has been deprecated, please pass in a Service object\n",
      "  driver = webdriver.Chrome(executable_path=r\"C:\\BATS\\chromedriver.exe\")\n"
     ]
    },
    {
     "name": "stdout",
     "output_type": "stream",
     "text": [
      "Parsing vitoria-es...\n",
      "click\n",
      "click\n"
     ]
    },
    {
     "name": "stderr",
     "output_type": "stream",
     "text": [
      "C:\\Users\\OI336798\\AppData\\Local\\Temp/ipykernel_1468/3783465624.py:44: DeprecationWarning: find_element_by_xpath is deprecated. Please use find_element(by=By.XPATH, value=xpath) instead\n",
      "  planos.append(driver.find_element_by_xpath('/html/body/section[4]/div/div/div[2]/div[2]/div['+str(i)+']/div/div[1]/div[2]/div[2]/div[1]/div/h3').text)\n",
      "C:\\Users\\OI336798\\AppData\\Local\\Temp/ipykernel_1468/3783465624.py:52: DeprecationWarning: find_element_by_xpath is deprecated. Please use find_element(by=By.XPATH, value=xpath) instead\n",
      "  velocidade.append(driver.find_element_by_xpath('/html/body/section[4]/div/div/div[2]/div[2]/div['+str(i)+']/div/div[2]/div[1]/div[1]/div/div[1]').text)\n",
      "C:\\Users\\OI336798\\AppData\\Local\\Temp/ipykernel_1468/3783465624.py:64: DeprecationWarning: find_element_by_xpath is deprecated. Please use find_element(by=By.XPATH, value=xpath) instead\n",
      "  precos.append(driver.find_element_by_xpath('/html/body/section[4]/div/div/div[2]/div[2]/div['+str(i)+']/div/div[2]/div[1]/div[2]/div/div/div[1]/div/span[2]').text\\\n",
      "C:\\Users\\OI336798\\AppData\\Local\\Temp/ipykernel_1468/3783465624.py:65: DeprecationWarning: find_element_by_xpath is deprecated. Please use find_element(by=By.XPATH, value=xpath) instead\n",
      "  +driver.find_element_by_xpath('/html/body/section[4]/div/div/div[2]/div[2]/div['+str(i)+']/div/div[2]/div[1]/div[2]/div/div/div[1]/div/span[3]').text)\n"
     ]
    }
   ],
   "source": [
    "### Importando lista de cidades_uf\n",
    "\n",
    "df = pd.read_excel(outdir+file2)\n",
    "\n",
    "### Coleta de dados de https://melhorplano.net/\n",
    "\n",
    "##Criando listas\n",
    "cidades=[]\n",
    "data=[]\n",
    "planos=[]\n",
    "velocidade=[]\n",
    "precos=[]\n",
    "\n",
    "delay = 10\n",
    "\n",
    "cidade = ''\n",
    "\n",
    "try:\n",
    "    #for n in range(len(df['cidade_uf'])):\n",
    "    #for n in range(26,27):\n",
    "        driver = webdriver.Chrome(executable_path=r\"C:\\BATS\\chromedriver.exe\")\n",
    "        cidade = df['cidade_uf'][n]\n",
    "        driver.get(\"https://melhorplano.net/internet-banda-larga/fibra-optica?l=\"+cidade)\n",
    "        print('Parsing {}...'.format(cidade))\n",
    "        element_present = EC.presence_of_element_located((By.XPATH, '/html/body/section[4]/div/div/div[2]/div[3]/div[2]/button'))\n",
    "        WebDriverWait(driver, WAIT).until(element_present)\n",
    "        \n",
    "        ##Testa se existe o botão Ver Mais Resultados e clicar nele\n",
    "        elem = driver.find_element(By.XPATH,'/html/body/section[4]/div/div/div[2]/div[3]/div[2]/button')\n",
    "        while elem.text =='VER MAIS RESULTADOS':\n",
    "            try:\n",
    "                time.sleep(15)\n",
    "                elem.click()\n",
    "                print('click')\n",
    "                elem = driver.find_element(By.XPATH,'/html/body/section[4]/div/div/div[2]/div[3]/div[2]/button')\n",
    "            except:\n",
    "                break\n",
    "        ##Pegando data de atualização do site\n",
    "        data_atualizacao =driver.find_element(By.XPATH,'/html/body/section[4]/div/div/div[2]/div[3]/div/div/span').text\n",
    "        \n",
    "        ### Pegando Planos, preços e velocidade\n",
    "        \n",
    "        ##Planos e Data de Atualização\n",
    "        for i in range(1,100):\n",
    "            try:\n",
    "                planos.append(driver.find_element_by_xpath('/html/body/section[4]/div/div/div[2]/div[2]/div['+str(i)+']/div/div[1]/div[2]/div[2]/div[1]/div/h3').text)\n",
    "                cidades.append(cidade)\n",
    "            except:\n",
    "                break\n",
    "        \n",
    "        ## Velocidade & removendo ''\n",
    "        for i in range(1,100):\n",
    "            try:\n",
    "                velocidade.append(driver.find_element_by_xpath('/html/body/section[4]/div/div/div[2]/div[2]/div['+str(i)+']/div/div[2]/div[1]/div[1]/div/div[1]').text)     \n",
    "                try:\n",
    "                    while True:\n",
    "                        velocidade.remove('')\n",
    "                except ValueError:\n",
    "                    pass                    \n",
    "            except:\n",
    "                break      \n",
    "\n",
    "        ##Preços\n",
    "        for i in range(1,100):\n",
    "            try:\n",
    "                precos.append(driver.find_element_by_xpath('/html/body/section[4]/div/div/div[2]/div[2]/div['+str(i)+']/div/div[2]/div[1]/div[2]/div/div/div[1]/div/span[2]').text\\\n",
    "                              +driver.find_element_by_xpath('/html/body/section[4]/div/div/div[2]/div[2]/div['+str(i)+']/div/div[2]/div[1]/div[2]/div/div/div[1]/div/span[3]').text)     \n",
    "\n",
    "            except:\n",
    "                break\n",
    "        \n",
    "        ## Gravar dados no dataframe\n",
    "        result = pd.DataFrame(planos,columns=['planos'])\n",
    "        result['velocidade']=velocidade\n",
    "        result['precos']=precos\n",
    "        result['cidade']=cidades\n",
    "        result['atualização']=data_atualizacao\n",
    "        \n",
    "        driver.close()\n",
    "        time.sleep(delay)\n",
    "        delay = delay + 10 \n",
    "except:\n",
    "    print('Apresentou erro')\n",
    "    pass\n",
    "                \n",
    "\n",
    "#Salvar dados do DF em CSV        \n",
    "result.to_csv(outdir+file, sep=';', index=False, encoding='UTF-32', mode = 'a', header = False) \n",
    "\n"
   ]
  },
  {
   "cell_type": "code",
   "execution_count": null,
   "id": "d2f516a4",
   "metadata": {},
   "outputs": [],
   "source": []
  }
 ],
 "metadata": {
  "kernelspec": {
   "display_name": "Python 3 (ipykernel)",
   "language": "python",
   "name": "python3"
  },
  "language_info": {
   "codemirror_mode": {
    "name": "ipython",
    "version": 3
   },
   "file_extension": ".py",
   "mimetype": "text/x-python",
   "name": "python",
   "nbconvert_exporter": "python",
   "pygments_lexer": "ipython3",
   "version": "3.9.7"
  }
 },
 "nbformat": 4,
 "nbformat_minor": 5
}
