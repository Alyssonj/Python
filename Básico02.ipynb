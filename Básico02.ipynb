{
  "nbformat": 4,
  "nbformat_minor": 0,
  "metadata": {
    "colab": {
      "name": "Aula 02 - Data Vinking.ipynb",
      "provenance": [],
      "collapsed_sections": [],
      "authorship_tag": "ABX9TyPUqDSzChWnUMxGLVNRsvXC",
      "include_colab_link": true
    },
    "kernelspec": {
      "name": "python3",
      "display_name": "Python 3"
    },
    "language_info": {
      "name": "python"
    }
  },
  "cells": [
    {
      "cell_type": "markdown",
      "metadata": {
        "id": "view-in-github",
        "colab_type": "text"
      },
      "source": [
        "<a href=\"https://colab.research.google.com/github/Alyssonj/Python/blob/main/B%C3%A1sico02.ipynb\" target=\"_parent\"><img src=\"https://colab.research.google.com/assets/colab-badge.svg\" alt=\"Open In Colab\"/></a>"
      ]
    },
    {
      "cell_type": "code",
      "metadata": {
        "id": "8TnD7rExAigG"
      },
      "source": [
        "#int (Números inteiros)\n",
        "#float (Números decimais)\n",
        "#complex (Números complexos)"
      ],
      "execution_count": null,
      "outputs": []
    },
    {
      "cell_type": "code",
      "metadata": {
        "colab": {
          "base_uri": "https://localhost:8080/"
        },
        "id": "oQQmUGC2BAl6",
        "outputId": "4b56efcc-53c5-444e-af88-8a1a8a8e653c"
      },
      "source": [
        "Salário = float(input('Digite seu salário:'))\n",
        "Nome = input('Digite seu nome:')\n",
        "\n",
        "if Salário>=1000:\n",
        "  print('Olá',Nome)\n",
        "  print('Seu salário é:',Salário)\n",
        "else:\n",
        "  print('Seu salário é inferior a mil reais.')"
      ],
      "execution_count": null,
      "outputs": [
        {
          "output_type": "stream",
          "name": "stdout",
          "text": [
            "Digite seu salário:250\n",
            "Digite seu nome:Aly\n",
            "Seu salário é inferior a mil reais.\n"
          ]
        }
      ]
    },
    {
      "cell_type": "code",
      "metadata": {
        "colab": {
          "base_uri": "https://localhost:8080/"
        },
        "id": "u0BwP6eNBLab",
        "outputId": "2e15d208-a87b-490a-83e8-44b79566bcba"
      },
      "source": [
        "user_input = input('Digite uma letra entre A-C:').UPPER()\n",
        "if user_input =='A':\n",
        "  print('Voce digitou A!')\n",
        "elif user_input == 'B':\n",
        "  print('Voce digitou B!')\n",
        "elif user_input == 'C':\n",
        "  print('Voce digitou C!')\n",
        "else:\n",
        "  print('Voce digitou incorreto')"
      ],
      "execution_count": null,
      "outputs": [
        {
          "output_type": "stream",
          "name": "stdout",
          "text": [
            "Digite uma letra entre A-C:z\n",
            "Voce digitou incorreto\n"
          ]
        }
      ]
    },
    {
      "cell_type": "code",
      "metadata": {
        "colab": {
          "base_uri": "https://localhost:8080/",
          "height": 35
        },
        "id": "REbxacV9C10c",
        "outputId": "0d4474dd-b850-434f-bd86-9b546e242184"
      },
      "source": [
        "'python'.upper()"
      ],
      "execution_count": null,
      "outputs": [
        {
          "output_type": "execute_result",
          "data": {
            "application/vnd.google.colaboratory.intrinsic+json": {
              "type": "string"
            },
            "text/plain": [
              "'PYTHON'"
            ]
          },
          "metadata": {},
          "execution_count": 10
        }
      ]
    },
    {
      "cell_type": "code",
      "metadata": {
        "colab": {
          "base_uri": "https://localhost:8080/",
          "height": 35
        },
        "id": "p8RpWKliDEVM",
        "outputId": "6573c2c4-1730-40e1-f1c7-9e78a3c28812"
      },
      "source": [
        "'PYTHON é amor!'.capitalize()"
      ],
      "execution_count": null,
      "outputs": [
        {
          "output_type": "execute_result",
          "data": {
            "application/vnd.google.colaboratory.intrinsic+json": {
              "type": "string"
            },
            "text/plain": [
              "'Python é amor!'"
            ]
          },
          "metadata": {},
          "execution_count": 11
        }
      ]
    },
    {
      "cell_type": "code",
      "metadata": {
        "colab": {
          "base_uri": "https://localhost:8080/",
          "height": 35
        },
        "id": "j90_BZogDJ7U",
        "outputId": "c6d0a711-7d6b-4341-fb28-c7a64e8fb2ac"
      },
      "source": [
        "'PYTHON É MELHOR QUE R!'.lower()"
      ],
      "execution_count": null,
      "outputs": [
        {
          "output_type": "execute_result",
          "data": {
            "application/vnd.google.colaboratory.intrinsic+json": {
              "type": "string"
            },
            "text/plain": [
              "'python é melhor que r!'"
            ]
          },
          "metadata": {},
          "execution_count": 13
        }
      ]
    },
    {
      "cell_type": "code",
      "metadata": {
        "colab": {
          "base_uri": "https://localhost:8080/"
        },
        "id": "WqmEXTHWDO0F",
        "outputId": "0bc08043-d128-4c19-8d11-4915e6657565"
      },
      "source": [
        "'PYTHON É MELHOR QUE R!'.split()"
      ],
      "execution_count": null,
      "outputs": [
        {
          "output_type": "execute_result",
          "data": {
            "text/plain": [
              "['PYTHON', 'É', 'MELHOR', 'QUE', 'R!']"
            ]
          },
          "metadata": {},
          "execution_count": 14
        }
      ]
    },
    {
      "cell_type": "code",
      "metadata": {
        "colab": {
          "base_uri": "https://localhost:8080/"
        },
        "id": "6_3FSBUPDUYC",
        "outputId": "32eae747-e8d9-48f6-d021-d898cfca14ae"
      },
      "source": [
        "'PYTHON@É@MELHOR@QUE@R!'.split()"
      ],
      "execution_count": null,
      "outputs": [
        {
          "output_type": "execute_result",
          "data": {
            "text/plain": [
              "['PYTHON@É@MELHOR@QUE@R!']"
            ]
          },
          "metadata": {},
          "execution_count": 15
        }
      ]
    },
    {
      "cell_type": "code",
      "metadata": {
        "colab": {
          "base_uri": "https://localhost:8080/"
        },
        "id": "_9Q5_C8ADeW7",
        "outputId": "c70c33ce-737c-4674-9003-682275c6971e"
      },
      "source": [
        "'PYTHON@É@MELHOR@QUE@R!'.split('@')"
      ],
      "execution_count": null,
      "outputs": [
        {
          "output_type": "execute_result",
          "data": {
            "text/plain": [
              "['PYTHON', 'É', 'MELHOR', 'QUE', 'R!']"
            ]
          },
          "metadata": {},
          "execution_count": 18
        }
      ]
    },
    {
      "cell_type": "code",
      "metadata": {
        "colab": {
          "base_uri": "https://localhost:8080/"
        },
        "id": "iM6Lj1VkDjzs",
        "outputId": "c2eeddea-17dd-4db8-83e9-07ad3b5e3c42"
      },
      "source": [
        "'BARBOSA, Alysson'.split(',')"
      ],
      "execution_count": null,
      "outputs": [
        {
          "output_type": "execute_result",
          "data": {
            "text/plain": [
              "['BARBOSA', ' Alysson']"
            ]
          },
          "metadata": {},
          "execution_count": 20
        }
      ]
    },
    {
      "cell_type": "code",
      "metadata": {
        "colab": {
          "base_uri": "https://localhost:8080/"
        },
        "id": "QBBfSUHHEOS-",
        "outputId": "156f1f73-e289-4fd5-dfac-613d291d807b"
      },
      "source": [
        "String = 'BARBOSA, Alysson'.split(',')\n",
        "String"
      ],
      "execution_count": null,
      "outputs": [
        {
          "output_type": "execute_result",
          "data": {
            "text/plain": [
              "['BARBOSA', ' Alysson']"
            ]
          },
          "metadata": {},
          "execution_count": 21
        }
      ]
    },
    {
      "cell_type": "code",
      "metadata": {
        "colab": {
          "base_uri": "https://localhost:8080/",
          "height": 35
        },
        "id": "hXioje3bEW1N",
        "outputId": "5f0ebeb3-a2dc-4c83-b0c5-d924b500e34d"
      },
      "source": [
        "#0 ou -1 da no mesmo é uma contagem negativa\n",
        "String[0]"
      ],
      "execution_count": null,
      "outputs": [
        {
          "output_type": "execute_result",
          "data": {
            "application/vnd.google.colaboratory.intrinsic+json": {
              "type": "string"
            },
            "text/plain": [
              "'BARBOSA'"
            ]
          },
          "metadata": {},
          "execution_count": 22
        }
      ]
    },
    {
      "cell_type": "code",
      "metadata": {
        "colab": {
          "base_uri": "https://localhost:8080/"
        },
        "id": "o-bFCbEtEbJT",
        "outputId": "cca60d71-00a3-4185-b270-ee3cbc250694"
      },
      "source": [
        "lista_nova = ['banana','cafe','python','java','programador']\n",
        "print(lista[0])\n",
        "print(lista[1])\n",
        "print(lista[2])\n",
        "print(lista[3])\n",
        "print(lista[4])"
      ],
      "execution_count": null,
      "outputs": [
        {
          "output_type": "stream",
          "name": "stdout",
          "text": [
            "banana\n",
            "cafe\n",
            "python\n",
            "java\n",
            "programador\n"
          ]
        }
      ]
    },
    {
      "cell_type": "code",
      "metadata": {
        "colab": {
          "base_uri": "https://localhost:8080/"
        },
        "id": "E7V28BLfGlbL",
        "outputId": "4888637c-118e-4e68-b3db-12350a842eae"
      },
      "source": [
        "#mesma coisa do code acima, so que facilitando\n",
        "for elemento in lista_nova:\n",
        "  print(elemento)\n"
      ],
      "execution_count": null,
      "outputs": [
        {
          "output_type": "stream",
          "name": "stdout",
          "text": [
            "banana\n",
            "cafe\n",
            "python\n",
            "java\n",
            "programador\n"
          ]
        }
      ]
    },
    {
      "cell_type": "code",
      "metadata": {
        "colab": {
          "base_uri": "https://localhost:8080/"
        },
        "id": "Q2b5r6AlGvvb",
        "outputId": "9454e3b6-e686-4db5-83e8-8ff7aa90c22d"
      },
      "source": [
        "lista_nova = ['banana','cafe','python','java','programador']\n",
        "indice = 1\n",
        "for elemento in lista_nova:\n",
        "  print(indice,elemento)\n",
        "  indice=indice+1"
      ],
      "execution_count": null,
      "outputs": [
        {
          "output_type": "stream",
          "name": "stdout",
          "text": [
            "1 banana\n",
            "2 cafe\n",
            "3 python\n",
            "4 java\n",
            "5 programador\n"
          ]
        }
      ]
    },
    {
      "cell_type": "code",
      "metadata": {
        "colab": {
          "base_uri": "https://localhost:8080/"
        },
        "id": "bWpUYsIpHd3T",
        "outputId": "c8a9fc7b-f624-4e82-9836-9d732c75d915"
      },
      "source": [
        "dicionario = {'Nome':'Lucas','Idade':25,'Cidade':'Salvador'}\n",
        "print(dicionario.keys())\n",
        "print(dicionario.items())"
      ],
      "execution_count": null,
      "outputs": [
        {
          "output_type": "stream",
          "name": "stdout",
          "text": [
            "dict_keys(['Nome', 'Idade', 'Cidade'])\n",
            "dict_items([('Nome', 'Lucas'), ('Idade', 25), ('Cidade', 'Salvador')])\n"
          ]
        }
      ]
    },
    {
      "cell_type": "code",
      "metadata": {
        "colab": {
          "base_uri": "https://localhost:8080/"
        },
        "id": "I82ZfcO0IDph",
        "outputId": "eb7b326a-d629-4c9c-e460-e050656342be"
      },
      "source": [
        "for chave in dicionario:\n",
        "  print(chave)"
      ],
      "execution_count": null,
      "outputs": [
        {
          "output_type": "stream",
          "name": "stdout",
          "text": [
            "Nome\n",
            "Idade\n",
            "Cidade\n"
          ]
        }
      ]
    },
    {
      "cell_type": "code",
      "metadata": {
        "colab": {
          "base_uri": "https://localhost:8080/"
        },
        "id": "vc3fSKk3IVlC",
        "outputId": "c4658a76-7055-4732-8b0d-458061bbea0e"
      },
      "source": [
        "for values in dicionario.values():\n",
        "  print(values)"
      ],
      "execution_count": null,
      "outputs": [
        {
          "output_type": "stream",
          "name": "stdout",
          "text": [
            "Lucas\n",
            "25\n",
            "Salvador\n"
          ]
        }
      ]
    },
    {
      "cell_type": "code",
      "metadata": {
        "colab": {
          "base_uri": "https://localhost:8080/"
        },
        "id": "KdUhtcKzIiya",
        "outputId": "5f4b743f-0d03-40cc-9348-22f482adcbfd"
      },
      "source": [
        "for chave,valor in dicionario.items():\n",
        "  print(chave,':',valor)"
      ],
      "execution_count": null,
      "outputs": [
        {
          "output_type": "stream",
          "name": "stdout",
          "text": [
            "Nome : Lucas\n",
            "Idade : 25\n",
            "Cidade : Salvador\n"
          ]
        }
      ]
    },
    {
      "cell_type": "code",
      "metadata": {
        "colab": {
          "base_uri": "https://localhost:8080/"
        },
        "id": "3bQWjo93IvNr",
        "outputId": "b3347db2-9435-4b42-b5cc-c13f35b20160"
      },
      "source": [
        "linguagens = ['r','java','python']\n",
        "for linguagem in linguagens:\n",
        "  if linguagem == 'python':\n",
        "    print('eu amo python!')"
      ],
      "execution_count": null,
      "outputs": [
        {
          "output_type": "stream",
          "name": "stdout",
          "text": [
            "eu amo python!\n"
          ]
        }
      ]
    },
    {
      "cell_type": "code",
      "metadata": {
        "colab": {
          "base_uri": "https://localhost:8080/"
        },
        "id": "Kak562hALd9B",
        "outputId": "2c3c33e8-f163-49db-b50f-4cd297ceaf37"
      },
      "source": [
        "i=0\n",
        "while i<len(linguagens):\n",
        "    print(linguagens[i])\n",
        "    i+=1 #é igual a \"i=i+1\""
      ],
      "execution_count": null,
      "outputs": [
        {
          "output_type": "stream",
          "name": "stdout",
          "text": [
            "r\n",
            "java\n",
            "python\n"
          ]
        }
      ]
    },
    {
      "cell_type": "code",
      "metadata": {
        "id": "Do8UeOOxQ9Ur"
      },
      "source": [
        "def saudar():\n",
        "  print('Olá, seja bem vindo ao Dvk!')"
      ],
      "execution_count": null,
      "outputs": []
    },
    {
      "cell_type": "code",
      "metadata": {
        "colab": {
          "base_uri": "https://localhost:8080/"
        },
        "id": "CLk85Ef72kUa",
        "outputId": "4ae545fc-7cf2-4a05-a6ae-30d4a3dbf426"
      },
      "source": [
        "saudar()"
      ],
      "execution_count": null,
      "outputs": [
        {
          "output_type": "stream",
          "name": "stdout",
          "text": [
            "Olá, seja bem vindo ao Dvk!\n"
          ]
        }
      ]
    },
    {
      "cell_type": "code",
      "metadata": {
        "colab": {
          "base_uri": "https://localhost:8080/"
        },
        "id": "wnjCrnhU2sTs",
        "outputId": "7feb89c1-41b0-48fb-f57d-01f77c2ff62f"
      },
      "source": [
        "for i in range(1,11):\n",
        "  saudar()"
      ],
      "execution_count": null,
      "outputs": [
        {
          "output_type": "stream",
          "name": "stdout",
          "text": [
            "Olá, seja bem vindo ao Dvk!\n",
            "Olá, seja bem vindo ao Dvk!\n",
            "Olá, seja bem vindo ao Dvk!\n",
            "Olá, seja bem vindo ao Dvk!\n",
            "Olá, seja bem vindo ao Dvk!\n",
            "Olá, seja bem vindo ao Dvk!\n",
            "Olá, seja bem vindo ao Dvk!\n",
            "Olá, seja bem vindo ao Dvk!\n",
            "Olá, seja bem vindo ao Dvk!\n",
            "Olá, seja bem vindo ao Dvk!\n"
          ]
        }
      ]
    },
    {
      "cell_type": "code",
      "metadata": {
        "colab": {
          "base_uri": "https://localhost:8080/"
        },
        "id": "UAGn9m1W3-RE",
        "outputId": "9a262b82-3d8f-452b-8af6-d64526c8ac53"
      },
      "source": [
        "def soma(n1,n2):\n",
        "  soma = n1+n2\n",
        "  print(f'{n1}+{n2}={soma}')\n",
        "soma(10,10) #ou soma=(n1=10,n2=10)"
      ],
      "execution_count": null,
      "outputs": [
        {
          "output_type": "stream",
          "name": "stdout",
          "text": [
            "10+10=20\n"
          ]
        }
      ]
    },
    {
      "cell_type": "code",
      "metadata": {
        "id": "HYyz9bcT4i2E"
      },
      "source": [
        "def soma(n1,n2):\n",
        "  'Recebe dois numeros e retorna a soma entre eles'\n",
        "  soma = n1+n2\n",
        "  return soma"
      ],
      "execution_count": null,
      "outputs": []
    },
    {
      "cell_type": "code",
      "metadata": {
        "colab": {
          "base_uri": "https://localhost:8080/"
        },
        "id": "yOOC9Txt6L0s",
        "outputId": "cb78d094-a079-482e-c1b8-71e89779233f"
      },
      "source": [
        "soma(10,10)"
      ],
      "execution_count": null,
      "outputs": [
        {
          "output_type": "execute_result",
          "data": {
            "text/plain": [
              "20"
            ]
          },
          "metadata": {},
          "execution_count": 21
        }
      ]
    },
    {
      "cell_type": "code",
      "metadata": {
        "colab": {
          "base_uri": "https://localhost:8080/"
        },
        "id": "QIhbF-8t6Oji",
        "outputId": "0e91d040-cbe8-4313-a4c3-1b9adbe302f2"
      },
      "source": [
        "!pip install yfinance\n",
        "import yfinance as yf"
      ],
      "execution_count": null,
      "outputs": [
        {
          "output_type": "stream",
          "name": "stdout",
          "text": [
            "Collecting yfinance\n",
            "  Downloading yfinance-0.1.67-py2.py3-none-any.whl (25 kB)\n",
            "Collecting lxml>=4.5.1\n",
            "  Downloading lxml-4.6.4-cp37-cp37m-manylinux_2_17_x86_64.manylinux2014_x86_64.manylinux_2_24_x86_64.whl (6.3 MB)\n",
            "\u001b[K     |████████████████████████████████| 6.3 MB 27.9 MB/s \n",
            "\u001b[?25hRequirement already satisfied: numpy>=1.15 in /usr/local/lib/python3.7/dist-packages (from yfinance) (1.19.5)\n",
            "Requirement already satisfied: multitasking>=0.0.7 in /usr/local/lib/python3.7/dist-packages (from yfinance) (0.0.10)\n",
            "Requirement already satisfied: pandas>=0.24 in /usr/local/lib/python3.7/dist-packages (from yfinance) (1.1.5)\n",
            "Requirement already satisfied: requests>=2.20 in /usr/local/lib/python3.7/dist-packages (from yfinance) (2.23.0)\n",
            "Requirement already satisfied: python-dateutil>=2.7.3 in /usr/local/lib/python3.7/dist-packages (from pandas>=0.24->yfinance) (2.8.2)\n",
            "Requirement already satisfied: pytz>=2017.2 in /usr/local/lib/python3.7/dist-packages (from pandas>=0.24->yfinance) (2018.9)\n",
            "Requirement already satisfied: six>=1.5 in /usr/local/lib/python3.7/dist-packages (from python-dateutil>=2.7.3->pandas>=0.24->yfinance) (1.15.0)\n",
            "Requirement already satisfied: certifi>=2017.4.17 in /usr/local/lib/python3.7/dist-packages (from requests>=2.20->yfinance) (2021.10.8)\n",
            "Requirement already satisfied: idna<3,>=2.5 in /usr/local/lib/python3.7/dist-packages (from requests>=2.20->yfinance) (2.10)\n",
            "Requirement already satisfied: urllib3!=1.25.0,!=1.25.1,<1.26,>=1.21.1 in /usr/local/lib/python3.7/dist-packages (from requests>=2.20->yfinance) (1.24.3)\n",
            "Requirement already satisfied: chardet<4,>=3.0.2 in /usr/local/lib/python3.7/dist-packages (from requests>=2.20->yfinance) (3.0.4)\n",
            "Installing collected packages: lxml, yfinance\n",
            "  Attempting uninstall: lxml\n",
            "    Found existing installation: lxml 4.2.6\n",
            "    Uninstalling lxml-4.2.6:\n",
            "      Successfully uninstalled lxml-4.2.6\n",
            "Successfully installed lxml-4.6.4 yfinance-0.1.67\n"
          ]
        }
      ]
    },
    {
      "cell_type": "code",
      "metadata": {
        "id": "RUy6yqd17fy8"
      },
      "source": [
        "itub4 = yf.Ticker('ITUB4.SA')"
      ],
      "execution_count": null,
      "outputs": []
    },
    {
      "cell_type": "code",
      "metadata": {
        "id": "D-uN31_O7v5F"
      },
      "source": [
        "itub4 = itub4.history(period = 'max', actions=False)"
      ],
      "execution_count": null,
      "outputs": []
    },
    {
      "cell_type": "code",
      "metadata": {
        "colab": {
          "base_uri": "https://localhost:8080/",
          "height": 455
        },
        "id": "Vveo7c827_5z",
        "outputId": "bed74fba-4c8a-436e-8107-cecc025d8edf"
      },
      "source": [
        "itub4"
      ],
      "execution_count": null,
      "outputs": [
        {
          "output_type": "execute_result",
          "data": {
            "text/html": [
              "<div>\n",
              "<style scoped>\n",
              "    .dataframe tbody tr th:only-of-type {\n",
              "        vertical-align: middle;\n",
              "    }\n",
              "\n",
              "    .dataframe tbody tr th {\n",
              "        vertical-align: top;\n",
              "    }\n",
              "\n",
              "    .dataframe thead th {\n",
              "        text-align: right;\n",
              "    }\n",
              "</style>\n",
              "<table border=\"1\" class=\"dataframe\">\n",
              "  <thead>\n",
              "    <tr style=\"text-align: right;\">\n",
              "      <th></th>\n",
              "      <th>Open</th>\n",
              "      <th>High</th>\n",
              "      <th>Low</th>\n",
              "      <th>Close</th>\n",
              "      <th>Volume</th>\n",
              "    </tr>\n",
              "    <tr>\n",
              "      <th>Date</th>\n",
              "      <th></th>\n",
              "      <th></th>\n",
              "      <th></th>\n",
              "      <th></th>\n",
              "      <th></th>\n",
              "    </tr>\n",
              "  </thead>\n",
              "  <tbody>\n",
              "    <tr>\n",
              "      <th>2000-12-21</th>\n",
              "      <td>1.753370</td>\n",
              "      <td>1.861126</td>\n",
              "      <td>1.753164</td>\n",
              "      <td>1.843699</td>\n",
              "      <td>74224</td>\n",
              "    </tr>\n",
              "    <tr>\n",
              "      <th>2000-12-22</th>\n",
              "      <td>1.825138</td>\n",
              "      <td>1.825138</td>\n",
              "      <td>1.752957</td>\n",
              "      <td>1.763784</td>\n",
              "      <td>23312</td>\n",
              "    </tr>\n",
              "    <tr>\n",
              "      <th>2000-12-25</th>\n",
              "      <td>1.763784</td>\n",
              "      <td>1.763784</td>\n",
              "      <td>1.763784</td>\n",
              "      <td>1.763784</td>\n",
              "      <td>0</td>\n",
              "    </tr>\n",
              "    <tr>\n",
              "      <th>2000-12-26</th>\n",
              "      <td>1.754092</td>\n",
              "      <td>1.765332</td>\n",
              "      <td>1.737491</td>\n",
              "      <td>1.763270</td>\n",
              "      <td>7851</td>\n",
              "    </tr>\n",
              "    <tr>\n",
              "      <th>2000-12-27</th>\n",
              "      <td>1.794203</td>\n",
              "      <td>1.823076</td>\n",
              "      <td>1.763269</td>\n",
              "      <td>1.823076</td>\n",
              "      <td>26996</td>\n",
              "    </tr>\n",
              "    <tr>\n",
              "      <th>...</th>\n",
              "      <td>...</td>\n",
              "      <td>...</td>\n",
              "      <td>...</td>\n",
              "      <td>...</td>\n",
              "      <td>...</td>\n",
              "    </tr>\n",
              "    <tr>\n",
              "      <th>2021-11-22</th>\n",
              "      <td>22.010000</td>\n",
              "      <td>22.480000</td>\n",
              "      <td>21.879999</td>\n",
              "      <td>22.070000</td>\n",
              "      <td>27953500</td>\n",
              "    </tr>\n",
              "    <tr>\n",
              "      <th>2021-11-23</th>\n",
              "      <td>22.250000</td>\n",
              "      <td>22.440001</td>\n",
              "      <td>21.910000</td>\n",
              "      <td>22.440001</td>\n",
              "      <td>38629100</td>\n",
              "    </tr>\n",
              "    <tr>\n",
              "      <th>2021-11-24</th>\n",
              "      <td>22.209999</td>\n",
              "      <td>23.170000</td>\n",
              "      <td>22.139999</td>\n",
              "      <td>23.040001</td>\n",
              "      <td>46131500</td>\n",
              "    </tr>\n",
              "    <tr>\n",
              "      <th>2021-11-25</th>\n",
              "      <td>23.100000</td>\n",
              "      <td>23.490000</td>\n",
              "      <td>23.049999</td>\n",
              "      <td>23.250000</td>\n",
              "      <td>17767700</td>\n",
              "    </tr>\n",
              "    <tr>\n",
              "      <th>2021-11-26</th>\n",
              "      <td>22.760000</td>\n",
              "      <td>22.959999</td>\n",
              "      <td>22.480000</td>\n",
              "      <td>22.809999</td>\n",
              "      <td>32284000</td>\n",
              "    </tr>\n",
              "  </tbody>\n",
              "</table>\n",
              "<p>5240 rows × 5 columns</p>\n",
              "</div>"
            ],
            "text/plain": [
              "                 Open       High        Low      Close    Volume\n",
              "Date                                                            \n",
              "2000-12-21   1.753370   1.861126   1.753164   1.843699     74224\n",
              "2000-12-22   1.825138   1.825138   1.752957   1.763784     23312\n",
              "2000-12-25   1.763784   1.763784   1.763784   1.763784         0\n",
              "2000-12-26   1.754092   1.765332   1.737491   1.763270      7851\n",
              "2000-12-27   1.794203   1.823076   1.763269   1.823076     26996\n",
              "...               ...        ...        ...        ...       ...\n",
              "2021-11-22  22.010000  22.480000  21.879999  22.070000  27953500\n",
              "2021-11-23  22.250000  22.440001  21.910000  22.440001  38629100\n",
              "2021-11-24  22.209999  23.170000  22.139999  23.040001  46131500\n",
              "2021-11-25  23.100000  23.490000  23.049999  23.250000  17767700\n",
              "2021-11-26  22.760000  22.959999  22.480000  22.809999  32284000\n",
              "\n",
              "[5240 rows x 5 columns]"
            ]
          },
          "metadata": {},
          "execution_count": 26
        }
      ]
    },
    {
      "cell_type": "code",
      "metadata": {
        "colab": {
          "base_uri": "https://localhost:8080/",
          "height": 238
        },
        "id": "5IZwY7ny8BMg",
        "outputId": "f77c0c72-da73-48f2-b63b-25248f142d96"
      },
      "source": [
        "itub4.head()"
      ],
      "execution_count": null,
      "outputs": [
        {
          "output_type": "execute_result",
          "data": {
            "text/html": [
              "<div>\n",
              "<style scoped>\n",
              "    .dataframe tbody tr th:only-of-type {\n",
              "        vertical-align: middle;\n",
              "    }\n",
              "\n",
              "    .dataframe tbody tr th {\n",
              "        vertical-align: top;\n",
              "    }\n",
              "\n",
              "    .dataframe thead th {\n",
              "        text-align: right;\n",
              "    }\n",
              "</style>\n",
              "<table border=\"1\" class=\"dataframe\">\n",
              "  <thead>\n",
              "    <tr style=\"text-align: right;\">\n",
              "      <th></th>\n",
              "      <th>Open</th>\n",
              "      <th>High</th>\n",
              "      <th>Low</th>\n",
              "      <th>Close</th>\n",
              "      <th>Volume</th>\n",
              "    </tr>\n",
              "    <tr>\n",
              "      <th>Date</th>\n",
              "      <th></th>\n",
              "      <th></th>\n",
              "      <th></th>\n",
              "      <th></th>\n",
              "      <th></th>\n",
              "    </tr>\n",
              "  </thead>\n",
              "  <tbody>\n",
              "    <tr>\n",
              "      <th>2000-12-21</th>\n",
              "      <td>1.753370</td>\n",
              "      <td>1.861126</td>\n",
              "      <td>1.753164</td>\n",
              "      <td>1.843699</td>\n",
              "      <td>74224</td>\n",
              "    </tr>\n",
              "    <tr>\n",
              "      <th>2000-12-22</th>\n",
              "      <td>1.825138</td>\n",
              "      <td>1.825138</td>\n",
              "      <td>1.752957</td>\n",
              "      <td>1.763784</td>\n",
              "      <td>23312</td>\n",
              "    </tr>\n",
              "    <tr>\n",
              "      <th>2000-12-25</th>\n",
              "      <td>1.763784</td>\n",
              "      <td>1.763784</td>\n",
              "      <td>1.763784</td>\n",
              "      <td>1.763784</td>\n",
              "      <td>0</td>\n",
              "    </tr>\n",
              "    <tr>\n",
              "      <th>2000-12-26</th>\n",
              "      <td>1.754092</td>\n",
              "      <td>1.765332</td>\n",
              "      <td>1.737491</td>\n",
              "      <td>1.763270</td>\n",
              "      <td>7851</td>\n",
              "    </tr>\n",
              "    <tr>\n",
              "      <th>2000-12-27</th>\n",
              "      <td>1.794203</td>\n",
              "      <td>1.823076</td>\n",
              "      <td>1.763269</td>\n",
              "      <td>1.823076</td>\n",
              "      <td>26996</td>\n",
              "    </tr>\n",
              "  </tbody>\n",
              "</table>\n",
              "</div>"
            ],
            "text/plain": [
              "                Open      High       Low     Close  Volume\n",
              "Date                                                      \n",
              "2000-12-21  1.753370  1.861126  1.753164  1.843699   74224\n",
              "2000-12-22  1.825138  1.825138  1.752957  1.763784   23312\n",
              "2000-12-25  1.763784  1.763784  1.763784  1.763784       0\n",
              "2000-12-26  1.754092  1.765332  1.737491  1.763270    7851\n",
              "2000-12-27  1.794203  1.823076  1.763269  1.823076   26996"
            ]
          },
          "metadata": {},
          "execution_count": 27
        }
      ]
    },
    {
      "cell_type": "code",
      "metadata": {
        "colab": {
          "base_uri": "https://localhost:8080/",
          "height": 318
        },
        "id": "6FnkObsJ8U35",
        "outputId": "4b331a6c-06fb-40e9-dc81-2212258c400d"
      },
      "source": [
        "itub4.Close.plot(kind='line',color='black',figsize=(14,5));"
      ],
      "execution_count": null,
      "outputs": [
        {
          "output_type": "display_data",
          "data": {
            "image/png": "[encoded data removed]",
            "text/plain": [
              "<Figure size 1008x360 with 1 Axes>"
            ]
          },
          "metadata": {
            "needs_background": "light"
          }
        }
      ]
    },
    {
      "cell_type": "code",
      "metadata": {
        "colab": {
          "base_uri": "https://localhost:8080/"
        },
        "id": "aX-U4vt58gyQ",
        "outputId": "d83ed492-ebdb-4834-f842-847dea1f57fc"
      },
      "source": [
        "itub4.index"
      ],
      "execution_count": null,
      "outputs": [
        {
          "output_type": "execute_result",
          "data": {
            "text/plain": [
              "DatetimeIndex(['2000-12-21', '2000-12-22', '2000-12-25', '2000-12-26',\n",
              "               '2000-12-27', '2000-12-28', '2000-12-29', '2001-01-01',\n",
              "               '2001-01-02', '2001-01-03',\n",
              "               ...\n",
              "               '2021-11-11', '2021-11-16', '2021-11-17', '2021-11-18',\n",
              "               '2021-11-19', '2021-11-22', '2021-11-23', '2021-11-24',\n",
              "               '2021-11-25', '2021-11-26'],\n",
              "              dtype='datetime64[ns]', name='Date', length=5240, freq=None)"
            ]
          },
          "metadata": {},
          "execution_count": 29
        }
      ]
    },
    {
      "cell_type": "code",
      "metadata": {
        "colab": {
          "base_uri": "https://localhost:8080/"
        },
        "id": "dQRAbwhj9U_x",
        "outputId": "c8b016cd-35e9-4b5b-a5c2-706b0937ba38"
      },
      "source": [
        "itub4.index.max().date()"
      ],
      "execution_count": null,
      "outputs": [
        {
          "output_type": "execute_result",
          "data": {
            "text/plain": [
              "datetime.date(2021, 11, 26)"
            ]
          },
          "metadata": {},
          "execution_count": 30
        }
      ]
    },
    {
      "cell_type": "code",
      "metadata": {
        "colab": {
          "base_uri": "https://localhost:8080/"
        },
        "id": "0IoAkaHO9b9W",
        "outputId": "4db97fee-633d-4572-c6ce-17c2174be57d"
      },
      "source": [
        "itub4.index.min().date()"
      ],
      "execution_count": null,
      "outputs": [
        {
          "output_type": "execute_result",
          "data": {
            "text/plain": [
              "datetime.date(2000, 12, 21)"
            ]
          },
          "metadata": {},
          "execution_count": 31
        }
      ]
    },
    {
      "cell_type": "code",
      "metadata": {
        "colab": {
          "base_uri": "https://localhost:8080/",
          "height": 350
        },
        "id": "29Df2KB2818z",
        "outputId": "dc93a481-2f1c-47e8-d105-dd9d018c40f9"
      },
      "source": [
        "import matplotlib.pyplot as plt\n",
        "intervalo_temporal = itub4.index\n",
        "valores = itub4.Close\n",
        "#ajusta o tamanho\n",
        "plt.figure(figsize = (14,5))\n",
        "#insere a linha no plot\n",
        "plt.plot(intervalo_temporal,valores,color='black',linewidth=1)\n",
        "#titulo do grafico\n",
        "plt.title('Preço de fechamento da ação Itau')\n",
        "#ajusta os limites do eixo x\n",
        "date_min = itub4.index.min().date()\n",
        "date_max = itub4.index.max().date()\n",
        "plt.xlim([date_min,date_max])\n",
        "#rotulos dos eixos x e y\n",
        "plt.xlabel('Tempo')\n",
        "plt.ylabel('Preço Fechamento')\n",
        "#insere gridlines\n",
        "plt.grid(alpha=0.5)\n",
        "plt.show()"
      ],
      "execution_count": null,
      "outputs": [
        {
          "output_type": "display_data",
          "data": {
            "image/png": "[encoded data removed]",
            "text/plain": [
              "<Figure size 1008x360 with 1 Axes>"
            ]
          },
          "metadata": {
            "needs_background": "light"
          }
        }
      ]
    },
    {
      "cell_type": "code",
      "metadata": {
        "id": "diGbnNIl9fwA"
      },
      "source": [
        "#acionou o tab nos codigos abaixo e criou o 'def' para padronizar\n",
        "def gerar_grafico_serie(intervalo_temporal,valores,ticker):\n",
        "  #ajusta o tamanho\n",
        "  plt.figure(figsize = (14,5))\n",
        "  #insere a linha no plot\n",
        "  plt.plot(intervalo_temporal,valores,color='black',linewidth=1)\n",
        "  #titulo do grafico\n",
        "  plt.title('Preço de fechamento da ação Itau {ticker}')\n",
        "  #ajusta os limites do eixo x\n",
        "  date_min = itub4.index.min().date()\n",
        "  date_max = itub4.index.max().date()\n",
        "  plt.xlim([date_min,date_max])\n",
        "  #rotulos dos eixos x e y\n",
        "  plt.xlabel('Tempo')\n",
        "  plt.ylabel('Preço Fechamento')\n",
        "  #insere gridlines\n",
        "  plt.grid(alpha=0.5)\n",
        "  plt.show()"
      ],
      "execution_count": null,
      "outputs": []
    },
    {
      "cell_type": "code",
      "metadata": {
        "colab": {
          "base_uri": "https://localhost:8080/",
          "height": 350
        },
        "id": "t0gk5UffAA1S",
        "outputId": "ddde8552-55d8-4cb5-a85f-598f8128be46"
      },
      "source": [
        "gerar_grafico_serie(itub4.index,itub4.Close,'Itau')"
      ],
      "execution_count": null,
      "outputs": [
        {
          "output_type": "display_data",
          "data": {
            "image/png": "[encoded data removed]",
            "text/plain": [
              "<Figure size 1008x360 with 1 Axes>"
            ]
          },
          "metadata": {
            "needs_background": "light"
          }
        }
      ]
    },
    {
      "cell_type": "code",
      "metadata": {
        "id": "m3zX_2mMAH2w"
      },
      "source": [
        "petr3 = yf.Ticker('PETR3.SA')\n",
        "petr3 = petr3.history(period='max',actions=False)"
      ],
      "execution_count": null,
      "outputs": []
    },
    {
      "cell_type": "code",
      "metadata": {
        "colab": {
          "base_uri": "https://localhost:8080/",
          "height": 350
        },
        "id": "1SbuGHtCAevS",
        "outputId": "9eec243c-739c-4c38-92cc-972536a9d94f"
      },
      "source": [
        "gerar_grafico_serie(petr3.index,petr3.Close,'PETR3.SA')"
      ],
      "execution_count": null,
      "outputs": [
        {
          "output_type": "display_data",
          "data": {
            "image/png": "[encoded data removed]",
            "text/plain": [
              "<Figure size 1008x360 with 1 Axes>"
            ]
          },
          "metadata": {
            "needs_background": "light"
          }
        }
      ]
    }
  ]
}