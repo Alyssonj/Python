{
  "nbformat": 4,
  "nbformat_minor": 0,
  "metadata": {
    "colab": {
      "name": "Aula 01 - Data Viking.ipynb",
      "provenance": [],
      "collapsed_sections": [],
      "authorship_tag": "ABX9TyNdIEqPf4OrptcvBLnrPh/A",
      "include_colab_link": true
    },
    "kernelspec": {
      "name": "python3",
      "display_name": "Python 3"
    },
    "language_info": {
      "name": "python"
    }
  },
  "cells": [
    {
      "cell_type": "markdown",
      "metadata": {
        "id": "view-in-github",
        "colab_type": "text"
      },
      "source": [
        "<a href=\"https://colab.research.google.com/github/Alyssonj/Python/blob/main/B%C3%A1sico01.ipynb\" target=\"_parent\"><img src=\"https://colab.research.google.com/assets/colab-badge.svg\" alt=\"Open In Colab\"/></a>"
      ]
    },
    {
      "cell_type": "code",
      "metadata": {
        "colab": {
          "base_uri": "https://localhost:8080/"
        },
        "id": "_LVvNJUH9Vle",
        "outputId": "45f084a9-c746-49af-bdc0-d550dc58edce"
      },
      "source": [
        "# Primeiro código\n",
        "print('Olá amigos!')"
      ],
      "execution_count": null,
      "outputs": [
        {
          "output_type": "stream",
          "name": "stdout",
          "text": [
            "Olá amigos!\n"
          ]
        }
      ]
    },
    {
      "cell_type": "code",
      "metadata": {
        "colab": {
          "base_uri": "https://localhost:8080/"
        },
        "id": "WkSctPII9rRv",
        "outputId": "4c9bdbcc-9afc-4b7a-d943-0c27ff81fdbd"
      },
      "source": [
        "# Operadores para Cálculos\n",
        "4 + 4 "
      ],
      "execution_count": null,
      "outputs": [
        {
          "output_type": "execute_result",
          "data": {
            "text/plain": [
              "8"
            ]
          },
          "metadata": {},
          "execution_count": 2
        }
      ]
    },
    {
      "cell_type": "code",
      "metadata": {
        "colab": {
          "base_uri": "https://localhost:8080/"
        },
        "id": "kgSeKwuU-G46",
        "outputId": "13dd88fa-6af9-413c-9218-a07fea0320b3"
      },
      "source": [
        "Soma = 1 + 2\n",
        "Subtracao = 1 - 1\n",
        "\n",
        "print('Soma:',Soma)\n",
        "print('Subtração:',Subtracao)\n",
        "print('Subtracao: {}, {}'.format(Subtracao, Subtracao))"
      ],
      "execution_count": null,
      "outputs": [
        {
          "output_type": "stream",
          "name": "stdout",
          "text": [
            "Soma: 3\n",
            "Subtração: 0\n",
            "Subtracao: 0, 0\n"
          ]
        }
      ]
    },
    {
      "cell_type": "code",
      "metadata": {
        "colab": {
          "base_uri": "https://localhost:8080/"
        },
        "id": "VCHaFX1RAEg6",
        "outputId": "eed84c74-10dd-4311-a1dc-ca30711a4edf"
      },
      "source": [
        "# Tipos de Variáveis\n",
        "#Inteiro\n",
        "Inteiro_01 = 100\n",
        "Inteiro_02 = int(100)\n",
        "\n",
        "#Flutuante\n",
        "Flutuante_01 = 10.09\n",
        "Flutuante_02 = float(10.09)\n",
        "\n",
        "#Strings (Palavras ou frases)\n",
        "Palavra_01 = 'Qualquer coisa'\n",
        "Palavra_02 = str(\"Qualquer coisa\")\n",
        "\n",
        "#Boleanos\n",
        "Booleano_01 = True\n",
        "Booleano_02 = False\n",
        "\n",
        "#Tipos de Dados\n",
        "#Listas\n",
        "Listas_01 = [1,2,3,4,5]\n",
        "Listas_02 = ['Nome','Palavras']\n",
        "Listas_03 = [1,'Palavras',True]\n",
        "\n",
        "#Tuplas (São imutaveis --> Ela nunca vai mudar)\n",
        "Tupla_01 = (1,2,3,4)\n",
        "Tupla_02 = ('Palavras',2,True)\n",
        "\n",
        "#Dicionários\n",
        "Dicionario = {\n",
        "    'Index':'Alguma coisa',\n",
        "    'Index_02':100,\n",
        "    'Index_03':True,\n",
        "    'Qualquer Index':'Qualquer valor',\n",
        "    'Lista aqui dentro':Listas_01,\n",
        "    'Tupla':Tupla_01\n",
        "    }\n",
        "\n",
        "print(Dicionario)\n",
        "\n",
        "#Nomear Variáveis\n",
        "#Multiplos Valores\n",
        "A,B,C, = 1,2,50\n",
        "\n",
        "print(A,B,C)"
      ],
      "execution_count": null,
      "outputs": [
        {
          "output_type": "stream",
          "name": "stdout",
          "text": [
            "{'Index': 'Alguma coisa', 'Index_02': 100, 'Index_03': True, 'Qualquer Index': 'Qualquer valor', 'Lista aqui dentro': [1, 2, 3, 4, 5], 'Tupla': (1, 2, 3, 4)}\n",
            "1 2 50\n"
          ]
        }
      ]
    },
    {
      "cell_type": "code",
      "metadata": {
        "id": "NYNNNuoAJ1ov"
      },
      "source": [
        "#Nomear Variáveis 2\n",
        "Morango = Uva = Kiwi = 1000\n",
        "print(Morango,Uva,Kiwi)\n",
        "\n",
        "#Nomear Variáveis 3\n",
        "Carros = ['VW','GM','FORD']\n",
        "Marca_01, Marca_02, Marca_03 = Carros\n",
        "print(Marca_02)\n",
        "\n",
        "#Combinar Variáveis\n",
        "Nome = 'Alysson'\n",
        "Sobrenome = 'Jose'\n",
        "Nome_Completo = Nome +' '+ Sobrenome\n",
        "\n",
        "print(Nome_Completo)\n",
        "\n",
        "#Combinar Variáveis 2\n",
        "Dolar = float(5.40)\n",
        "Imposto = 0.2\n",
        "\n",
        "Valor_Líquido = Dolar - (Dolar * Imposto)\n",
        "print(Valor_Líquido)\n",
        "\n",
        "#Comando 'Type'\n",
        "A = 1\n",
        "B = 2.9\n",
        "C = 'Olá'\n",
        "D = [1,2,3]\n",
        "E = (1,2,3)\n",
        "F = {'CPF':123456789}\n",
        "G = False\n",
        "\n",
        "print(type(A))\n",
        "print(type(B))\n",
        "print(type(C))\n",
        "print(type(D))\n",
        "print(type(E))\n",
        "print(type(F))\n",
        "print(type(G))"
      ],
      "execution_count": null,
      "outputs": []
    },
    {
      "cell_type": "code",
      "metadata": {
        "id": "hsmZ_gCUKCxO"
      },
      "source": [
        "#Comando 'Round' --> Arredondar Valores\n",
        "Valor_Exemplo = 12.12343455346\n",
        "print(round(Valor_Exemplo,2))\n",
        "\n",
        "#Comando 'Input' --> Enviar Informações\n",
        "Nome = input('Qual seu nome?')\n",
        "print('Meu nome é {}'.format(Nome))"
      ],
      "execution_count": null,
      "outputs": []
    },
    {
      "cell_type": "code",
      "metadata": {
        "id": "BWV4cWr3NjS9"
      },
      "source": [
        "#Operadores de Comparação 1\n",
        "Igual = '=='\n",
        "Diferente = '!='\n",
        "Maior = '>'\n",
        "Menor = '<'\n",
        "Maior_Igual = '>='\n",
        "Menor_Igual = '>='\n",
        "\n",
        "\n",
        "print('1:',8>7)\n",
        "print('1:',8<7)\n",
        "print('1:',8==8)\n",
        "print('1:',8!=8)\n",
        "\n",
        "#Operadores de Comparação 2\n",
        "And = 'e'\n",
        "Ou = 'Or'\n",
        "Negacao = 'Not'\n",
        "Dentro = 'in'\n",
        "\n",
        "print('2:', 8>6 and 7<6)\n",
        "print('2:', 8>6 and 7>6)\n",
        "print('2:', 8>6 or 7<6)\n",
        "print('2:', 8 not in [8,9,10])\n",
        "print('2:', 8 in [8,9,10])"
      ],
      "execution_count": null,
      "outputs": []
    },
    {
      "cell_type": "code",
      "metadata": {
        "id": "pWd8W85iQYzU",
        "colab": {
          "base_uri": "https://localhost:8080/"
        },
        "outputId": "a9816b85-420c-4702-c536-ddedb1c58c18"
      },
      "source": [
        "#Manipular Listas\n",
        "Lista_Vazia = []\n",
        "print(Lista_Vazia)\n",
        "Lista_Vazia.append(1)\n",
        "Lista_Vazia.append('Alysson')\n",
        "Lista_Vazia.append(False)\n",
        "Lista_Vazia.append(True)\n",
        "\n",
        "print('Depois:',Lista_Vazia)\n",
        "print('Depois:',Lista_Vazia[0])\n",
        "print('Depois:',Lista_Vazia[2])\n",
        "print('Depois:',Lista_Vazia[-1])\n",
        "print('Depois:',Lista_Vazia[0:2])\n",
        "\n",
        "#Excluir Valores e Limpar Lista\n",
        "del Lista_Vazia[-1]\n",
        "print(Lista_Vazia)\n",
        "print(Lista_Vazia.clear())"
      ],
      "execution_count": null,
      "outputs": [
        {
          "output_type": "stream",
          "name": "stdout",
          "text": [
            "[]\n",
            "Depois: [1, 'Alysson', False, True]\n",
            "Depois: 1\n",
            "Depois: False\n",
            "Depois: True\n",
            "Depois: [1, 'Alysson']\n",
            "[1, 'Alysson', False]\n",
            "None\n"
          ]
        }
      ]
    },
    {
      "cell_type": "code",
      "source": [
        "#Manipular Listas\n",
        "Lista_Vazia = []\n",
        "print(Lista_Vazia)\n",
        "Lista_Vazia.append(1)"
      ],
      "metadata": {
        "colab": {
          "base_uri": "https://localhost:8080/"
        },
        "id": "ZMCpKGj0vKJU",
        "outputId": "cd9bcb14-0cdd-4e8d-d2db-05dca62e93ae"
      },
      "execution_count": null,
      "outputs": [
        {
          "output_type": "stream",
          "name": "stdout",
          "text": [
            "[]\n"
          ]
        }
      ]
    },
    {
      "cell_type": "code",
      "metadata": {
        "colab": {
          "base_uri": "https://localhost:8080/"
        },
        "id": "Gyk26vAGSUBg",
        "outputId": "9831ad5e-2a85-4277-f0cd-88fdb092a947"
      },
      "source": [
        "#Utilizando Funções Externas (Libs, Frameworks, Bibliotecas, Funções)\n",
        "from datetime import datetime as dt\n",
        "Data = '16/11/21'\n",
        "Conversao = dt.strptime(Data,'%d/%m/%y')\n",
        "print(type(Data))\n",
        "print(type(Conversao))"
      ],
      "execution_count": null,
      "outputs": [
        {
          "output_type": "stream",
          "name": "stdout",
          "text": [
            "<class 'str'>\n",
            "<class 'datetime.datetime'>\n"
          ]
        }
      ]
    },
    {
      "cell_type": "code",
      "metadata": {
        "colab": {
          "base_uri": "https://localhost:8080/"
        },
        "id": "-LcJ-B4zUMcG",
        "outputId": "93ee0270-30cd-49fe-93fc-4a020597646e"
      },
      "source": [
        "#Metodo Len\n",
        "#Calcula o tamanho de algo\n",
        "\n",
        "Exemplo = [1,2,3,4,5,6,'Alysson',True]\n",
        "print(len(Exemplo))"
      ],
      "execution_count": null,
      "outputs": [
        {
          "output_type": "stream",
          "name": "stdout",
          "text": [
            "8\n"
          ]
        }
      ]
    },
    {
      "cell_type": "code",
      "metadata": {
        "colab": {
          "base_uri": "https://localhost:8080/"
        },
        "id": "ZZcTgOgNV3EC",
        "outputId": "86ff9dc0-e3c6-4f06-a00a-fa8f1e059a6a"
      },
      "source": [
        "#Instalar Pacotes Externos\n",
        "pip install plotly"
      ],
      "execution_count": null,
      "outputs": [
        {
          "output_type": "stream",
          "name": "stdout",
          "text": [
            "Requirement already satisfied: plotly in /usr/local/lib/python3.7/dist-packages (4.4.1)\n",
            "Requirement already satisfied: six in /usr/local/lib/python3.7/dist-packages (from plotly) (1.15.0)\n",
            "Requirement already satisfied: retrying>=1.3.3 in /usr/local/lib/python3.7/dist-packages (from plotly) (1.3.3)\n"
          ]
        }
      ]
    },
    {
      "cell_type": "code",
      "metadata": {
        "colab": {
          "base_uri": "https://localhost:8080/"
        },
        "id": "6heUSowVWGAp",
        "outputId": "ac6dfbb6-9b31-46aa-b4dc-0281c37831c2"
      },
      "source": [
        "#Exercício 1\n",
        "#IMC (Peso/Altura*Altura)\n",
        "\n",
        "IMC = round(50/(1.60*1.60),2)\n",
        "print('IMC:{}'.format(IMC))"
      ],
      "execution_count": null,
      "outputs": [
        {
          "output_type": "stream",
          "name": "stdout",
          "text": [
            "IMC:19.53\n"
          ]
        }
      ]
    },
    {
      "cell_type": "code",
      "metadata": {
        "colab": {
          "base_uri": "https://localhost:8080/"
        },
        "id": "VuI_9ZhlWx6C",
        "outputId": "c46e03e4-689d-4f63-a18b-0dfe96e8713d"
      },
      "source": [
        "#Exercício 2\n",
        "#Juros Simples\n",
        "\n",
        "Taxa_Juros = 0.05\n",
        "Investimento = 1000\n",
        "\n",
        "Ganhar = Investimento + (Investimento * Taxa_Juros)\n",
        "print('Todo:',Ganhar)\n",
        "print('Juros:',(Ganhar - Investimento))\n"
      ],
      "execution_count": null,
      "outputs": [
        {
          "output_type": "stream",
          "name": "stdout",
          "text": [
            "Todo: 1050.0\n",
            "Juros: 50.0\n"
          ]
        }
      ]
    },
    {
      "cell_type": "code",
      "metadata": {
        "colab": {
          "base_uri": "https://localhost:8080/"
        },
        "id": "W9ZFlNVsXjUE",
        "outputId": "40aaf23f-4bf1-4774-b4fb-99144957434f"
      },
      "source": [
        "#Exercício 3\n",
        "#Sistema de Soma\n",
        "\n",
        "Valor1 = int(input('Digite Valor:'))\n",
        "Valor2 = int(input('Digite Valor:'))\n",
        "\n",
        "Soma = Valor1 + Valor2\n",
        "print('Igual:',Soma)"
      ],
      "execution_count": null,
      "outputs": [
        {
          "output_type": "stream",
          "name": "stdout",
          "text": [
            "Digite Valor:15\n",
            "Digite Valor:33\n",
            "Igual: 48\n"
          ]
        }
      ]
    },
    {
      "cell_type": "code",
      "metadata": {
        "id": "Wag9vffMYBGr"
      },
      "source": [
        "# 4º Exercício\n",
        "# Criando uma Data\n",
        "\n",
        "# Inputar os valores\n",
        "Dia = int( input('Qual o dia: '))\n",
        "Mes = int( input('Qual o mês: '))\n",
        "Ano = int( input('Qual o ano: '))\n",
        "\n",
        "# Consolidando as data\n",
        "Data = str(Dia) + '/' + str(Mes) + '/' + str(Ano)\n",
        "Converter = datetime.strptime(Data, '%d/%m/%y')\n",
        "\n",
        "print( 'Data convertida{}' .format(Converter) )"
      ],
      "execution_count": null,
      "outputs": []
    },
    {
      "cell_type": "code",
      "metadata": {
        "id": "LZ60LyMFOnWR"
      },
      "source": [
        "# 5º Exercício\n",
        "# Calculando o metro quadrado\n",
        "\n",
        "Altura = int( input('Qual a altura: '))\n",
        "Largura = int( input('Qual a largura: '))\n",
        "Quadrado = Altura * Largura\n",
        "\n",
        "print('São: {} metros quadrados' .format(Quadrado) )"
      ],
      "execution_count": null,
      "outputs": []
    },
    {
      "cell_type": "code",
      "metadata": {
        "id": "z7tKlkcmOpa_"
      },
      "source": [
        "# 6º Exercício\n",
        "# verifique se o usuário é maior de idade\n",
        "\n",
        "Idade = int( input('Qual sua idade:') )\n",
        "Verificacao = Idade >= 18\n",
        "\n",
        "print('Verificação: {}' .format(Verificacao))"
      ],
      "execution_count": null,
      "outputs": []
    },
    {
      "cell_type": "code",
      "metadata": {
        "id": "PymUV-7wOrDW"
      },
      "source": [
        "# 7º Exercício\n",
        "# Hipotenusa de um triângulo retângulo\n",
        "\n",
        "# Formula = a² + b² = c²\n",
        "\n",
        "Cateto_Oposto = float(input('Valor do cateto oposto: '))\n",
        "Cateto_Adjacente = float(input('Valor do cateto adjacente: '))\n",
        "\n",
        "Hipotenusa = (Cateto_Adjacente ** 2 + Cateto_Oposto ** 2) ** (1/2)\n",
        "print('O valor da hipotenusa é: {}'.format(Hipotenusa) )"
      ],
      "execution_count": null,
      "outputs": []
    },
    {
      "cell_type": "code",
      "metadata": {
        "id": "cMaXBM4nOt11"
      },
      "source": [
        "# 8º Exercício\n",
        "# Sistema de RH\n",
        "\n",
        "# Salario inputado pelo usuário\n",
        "Salario = float( input('Qual seu sálario: '))\n",
        "\n",
        "# Variaveis de desconto\n",
        "INSS = 0.11\n",
        "Vale_Refeicao = 0.02\n",
        "Vale_Transporte = 0.08\n",
        "IR = 0.08\n",
        "\n",
        "# Organizando os dados\n",
        "Dicionario = { 'INSS': Salario * INSS, \n",
        "               'Vale Refeição' : Salario * Vale_Refeicao, \n",
        "               'Vale Transporte' : Salario * Vale_Transporte, \n",
        "               'Imposto de Renda' : Salario * IR }\n",
        "\n",
        "# calculando o Debito\n",
        "Debito = Dicionario['INSS'] + Dicionario['Vale Refeição'] + Dicionario['Vale Transporte'] + Dicionario['Imposto de Renda']\n",
        "# calculando o valor liquido\n",
        "Liquido = Salario - Debito\n",
        "\n",
        "# Mostrando as informações\n",
        "print('\\n')\n",
        "print('Informações Gerais')\n",
        "print('*' * 35 )\n",
        "print( 'Informações sobre os descontos:', Dicionario )\n",
        "print( 'Desconto Geral:', Debito )\n",
        "print('*' * 35 )\n",
        "print('Sálario Liquido será: {}'.format(Liquido) )"
      ],
      "execution_count": null,
      "outputs": []
    },
    {
      "cell_type": "code",
      "metadata": {
        "id": "UiHD1nRrOw5X"
      },
      "source": [
        "# Plus <<< --- >>> <<< --- >>> <<< --- >>> <<< --- >>>\n",
        "\n",
        "# Criar um novo Dicionário\n",
        "Dicionario_02 = Dicionario\n",
        "# Criar novas posições no Dicionário\n",
        "Dicionario_02['Valor Descontos Gerais'] = Debito\n",
        "Dicionario_02['Valor Liquido'] = Liquido\n",
        "Dicionario_02['Salário'] = Salario\n",
        "\n",
        "print( Dicionario_02 )"
      ],
      "execution_count": null,
      "outputs": []
    },
    {
      "cell_type": "code",
      "metadata": {
        "id": "5eyL9EKgOzBr"
      },
      "source": [
        "# Função para criar um DataFrame\n",
        "from pandas import DataFrame\n",
        "\n",
        "Base_Dados = DataFrame( Dicionario_02, index=[0] )\n",
        "Base_Dados"
      ],
      "execution_count": null,
      "outputs": []
    }
  ]
}