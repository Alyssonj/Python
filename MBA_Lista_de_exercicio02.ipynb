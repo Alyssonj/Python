{
  "nbformat": 4,
  "nbformat_minor": 0,
  "metadata": {
    "colab": {
      "name": "Exercícios Aula 02.ipynb",
      "provenance": [],
      "collapsed_sections": [],
      "authorship_tag": "ABX9TyMoh+qIYF7s/9yNueamisYi",
      "include_colab_link": true
    },
    "kernelspec": {
      "name": "python3",
      "display_name": "Python 3"
    },
    "language_info": {
      "name": "python"
    }
  },
  "cells": [
    {
      "cell_type": "markdown",
      "metadata": {
        "id": "view-in-github",
        "colab_type": "text"
      },
      "source": [
        "<a href=\"https://colab.research.google.com/github/Alyssonj/Python/blob/main/MBA_Lista_de_exercicio02.ipynb\" target=\"_parent\"><img src=\"https://colab.research.google.com/assets/colab-badge.svg\" alt=\"Open In Colab\"/></a>"
      ]
    },
    {
      "cell_type": "code",
      "metadata": {
        "colab": {
          "base_uri": "https://localhost:8080/"
        },
        "id": "-AYOd015xW2s",
        "outputId": "62d5382b-6df5-4f83-ed46-34a0cbc0d827"
      },
      "source": [
        "v1 = str(input('Qual o password?'))\n",
        "if v1 == 'n18': \n",
        "  print('hehe, acesso liberado')\n",
        "else:\n",
        "  print('Sai daqui, lixo')"
      ],
      "execution_count": null,
      "outputs": [
        {
          "output_type": "stream",
          "name": "stdout",
          "text": [
            "Qual o password?n18\n",
            "hehe, acesso liberado\n"
          ]
        }
      ]
    },
    {
      "cell_type": "code",
      "metadata": {
        "colab": {
          "base_uri": "https://localhost:8080/"
        },
        "id": "ICM0Q5VGO12y",
        "outputId": "5e0d6b14-9bb7-430d-f053-e88d078dc877"
      },
      "source": [
        "v1 = int(input('Qual seu salário:'))\n",
        "if v1<1900: \n",
        "  print('Seu salário líquido é:',v1*1)\n",
        "elif v1>1900:\n",
        "  print('Seu salário líquido é:',v1-(v1*0.075))\n",
        "elif v1>2800:\n",
        "  print('Seu salário líquido é:',v1-(v1*0.15)) \n",
        "else:\n",
        "  print('Seu salário líquido é:',v1-(v1*0.22))"
      ],
      "execution_count": null,
      "outputs": [
        {
          "output_type": "stream",
          "name": "stdout",
          "text": [
            "Qual seu salário:2000\n",
            "Seu salário líquido é: 1850.0\n"
          ]
        }
      ]
    },
    {
      "cell_type": "code",
      "metadata": {
        "id": "QsMlRtGBPlms",
        "colab": {
          "base_uri": "https://localhost:8080/"
        },
        "outputId": "6928d820-18d3-4f1f-e437-d1fc8b9d76a7"
      },
      "source": [
        "v1 = int(input('Número 1?'))\n",
        "v2 = int(input('Número 2?'))\n",
        "if v1>v2: \n",
        "  print('Número 1 é maior que o 2')\n",
        "else:\n",
        "  print('Número 2 é maior que o 1')"
      ],
      "execution_count": null,
      "outputs": [
        {
          "output_type": "stream",
          "name": "stdout",
          "text": [
            "Número 1?4\n",
            "Número 2?5\n",
            "Número 2 é maior que o 1\n"
          ]
        }
      ]
    },
    {
      "cell_type": "code",
      "metadata": {
        "colab": {
          "base_uri": "https://localhost:8080/"
        },
        "id": "9E2mxPOD2tt0",
        "outputId": "f19db2ac-f3f5-44e6-a70b-dda901279f4d"
      },
      "source": [
        "v1 = int(input('Número 1?'))\n",
        "if v1<0: \n",
        "  print('Número é negativo')\n",
        "else:\n",
        "  print('Número é positivo')"
      ],
      "execution_count": null,
      "outputs": [
        {
          "output_type": "stream",
          "name": "stdout",
          "text": [
            "Número 1?-2\n",
            "Número é negativo\n"
          ]
        }
      ]
    },
    {
      "cell_type": "code",
      "metadata": {
        "colab": {
          "base_uri": "https://localhost:8080/"
        },
        "id": "owNnZ62u3WH3",
        "outputId": "2b09cd71-a772-4cdf-ba2d-3f7d08ee72be"
      },
      "source": [
        "n1 = int(input('Qual seu salario:'))\n",
        "n2 = int(input('Qual sua nota2:'))\n",
        "n3 = int(input('Qual sua nota3:'))\n",
        "nf = ((n1+n2+n3)/3)\n",
        "if nf<7: \n",
        "  print('Reprovado')\n",
        "elif nf==10:\n",
        "  print('Aprovado com maestria, parabéns!')\n",
        "elif nf>=7:\n",
        "  print('Aprovado!')\n",
        "else:\n",
        "  print('Boa!')"
      ],
      "execution_count": null,
      "outputs": [
        {
          "output_type": "stream",
          "name": "stdout",
          "text": [
            "Qual sua nota1:7\n",
            "Qual sua nota2:8\n",
            "Qual sua nota3:9\n",
            "Aprovado!\n"
          ]
        }
      ]
    },
    {
      "cell_type": "code",
      "metadata": {
        "colab": {
          "base_uri": "https://localhost:8080/"
        },
        "id": "7jhvPuZ04K-T",
        "outputId": "47851595-e8f6-42e2-9ac7-0761e268b869"
      },
      "source": [
        "for Tabuada in range(1,10):\n",
        "  print(Tabuada)"
      ],
      "execution_count": null,
      "outputs": [
        {
          "output_type": "stream",
          "name": "stdout",
          "text": [
            "1\n",
            "2\n",
            "3\n",
            "4\n",
            "5\n",
            "6\n",
            "7\n",
            "8\n",
            "9\n"
          ]
        }
      ]
    },
    {
      "cell_type": "code",
      "metadata": {
        "colab": {
          "base_uri": "https://localhost:8080/"
        },
        "id": "FXopJo9c5awD",
        "outputId": "e920ab34-141e-4bcb-99db-93bc3c8e5415"
      },
      "source": [
        "Lista = [2,4,6,8,10]\n",
        "for Aoquadrado in Lista:\n",
        "  print(Aoquadrado**2)"
      ],
      "execution_count": null,
      "outputs": [
        {
          "output_type": "stream",
          "name": "stdout",
          "text": [
            "4\n",
            "16\n",
            "36\n",
            "64\n",
            "100\n"
          ]
        }
      ]
    },
    {
      "cell_type": "code",
      "metadata": {
        "colab": {
          "base_uri": "https://localhost:8080/"
        },
        "id": "p3cDiuAV61M-",
        "outputId": "ae566d8a-dfbd-4511-a4b3-2f8915a77f9b"
      },
      "source": [
        "v1 = int(input('N:'))\n",
        "Lista = [1,2,3,4,5,6,7,8,9,10]\n",
        "for Tabuada2 in Lista:\n",
        "  print(v1,'x',Tabuada2,'=',Tabuada2*v1)"
      ],
      "execution_count": null,
      "outputs": [
        {
          "output_type": "stream",
          "name": "stdout",
          "text": [
            "N:3\n",
            "3 x 1 = 3\n",
            "3 x 2 = 6\n",
            "3 x 3 = 9\n",
            "3 x 4 = 12\n",
            "3 x 5 = 15\n",
            "3 x 6 = 18\n",
            "3 x 7 = 21\n",
            "3 x 8 = 24\n",
            "3 x 9 = 27\n",
            "3 x 10 = 30\n"
          ]
        }
      ]
    },
    {
      "cell_type": "code",
      "metadata": {
        "id": "NhbqlT7jDxXC",
        "colab": {
          "base_uri": "https://localhost:8080/"
        },
        "outputId": "cb3381ea-c620-4d32-9209-bb7039d9da2c"
      },
      "source": [
        "Lista = [ 1, 2, 3, 4, 5, 6, 7, 8, 9, 10 ]\n",
        "\n",
        "for Loop in Lista:\n",
        "\n",
        "  if ( Loop % 2 ) == 0:\n",
        "    print(f' Dividi {Loop} por 2 e não houve Resto')\n",
        "\n",
        "  else:\n",
        "    print(f' Dividi {Loop} por 2 e o resto foi { Loop % 2}')"
      ],
      "execution_count": null,
      "outputs": [
        {
          "output_type": "stream",
          "name": "stdout",
          "text": [
            " Dividi 1 por 2 e o resto foi 1\n",
            " Dividi 2 por 2 e não houve Resto\n",
            " Dividi 3 por 2 e o resto foi 1\n",
            " Dividi 4 por 2 e não houve Resto\n",
            " Dividi 5 por 2 e o resto foi 1\n",
            " Dividi 6 por 2 e não houve Resto\n",
            " Dividi 7 por 2 e o resto foi 1\n",
            " Dividi 8 por 2 e não houve Resto\n",
            " Dividi 9 por 2 e o resto foi 1\n",
            " Dividi 10 por 2 e não houve Resto\n"
          ]
        }
      ]
    },
    {
      "cell_type": "code",
      "metadata": {
        "colab": {
          "base_uri": "https://localhost:8080/"
        },
        "id": "QUY9pfEhPre-",
        "outputId": "b5bc864b-a0d7-4168-cd2b-9225348a5b3c"
      },
      "source": [
        "Lista = [2, 4, 6, 8, 10]\n",
        "\n",
        "for Contador, Loop in enumerate(Lista):\n",
        "  print( Contador, Loop )"
      ],
      "execution_count": null,
      "outputs": [
        {
          "output_type": "stream",
          "name": "stdout",
          "text": [
            "0 2\n",
            "1 4\n",
            "2 6\n",
            "3 8\n",
            "4 10\n"
          ]
        }
      ]
    },
    {
      "cell_type": "code",
      "metadata": {
        "colab": {
          "base_uri": "https://localhost:8080/"
        },
        "id": "5Nw8kZ6vRPRq",
        "outputId": "096701fe-5918-41e8-95f5-05f7e72bfdc6"
      },
      "source": [
        "x = 1\n",
        "while x < 6:\n",
        "  print(x)\n",
        "  x += 1"
      ],
      "execution_count": null,
      "outputs": [
        {
          "output_type": "stream",
          "name": "stdout",
          "text": [
            "1\n",
            "2\n",
            "3\n",
            "4\n",
            "5\n"
          ]
        }
      ]
    },
    {
      "cell_type": "code",
      "metadata": {
        "colab": {
          "base_uri": "https://localhost:8080/"
        },
        "id": "np1vtglPRTCD",
        "outputId": "acbb48af-52b0-424c-a574-5ec564d1fa5c"
      },
      "source": [
        "x = 1\n",
        "while x < 6:\n",
        "  print(x)\n",
        "  x += 1\n",
        "\n",
        "else:\n",
        "  print('Nãoooooo!')"
      ],
      "execution_count": null,
      "outputs": [
        {
          "output_type": "stream",
          "name": "stdout",
          "text": [
            "1\n",
            "2\n",
            "3\n",
            "4\n",
            "5\n",
            "Nãoooooo!\n"
          ]
        }
      ]
    },
    {
      "cell_type": "code",
      "metadata": {
        "colab": {
          "base_uri": "https://localhost:8080/"
        },
        "id": "-1e_WeeARTFI",
        "outputId": "d6e2abd5-b315-4f0e-9a65-104379d40cc2"
      },
      "source": [
        "Numero_01 = int(input('Numero_1: '))\n",
        "Numero_02 = int(input('Numero_2: '))\n",
        "Numero_03 = int(input('Numero_3: '))\n",
        "Numero_04 = int(input('Numero_4: '))\n",
        "\n",
        "def Soma(x, y, z, w):\n",
        "  Somando = x + y + z + w\n",
        "  return print( Somando )\n",
        "\n",
        "Soma(Numero_01, Numero_02, Numero_03, Numero_04 )"
      ],
      "execution_count": null,
      "outputs": [
        {
          "output_type": "stream",
          "name": "stdout",
          "text": [
            "Numero_1: 134\n",
            "Numero_2: 53\n",
            "Numero_3: 567\n",
            "Numero_4: 45\n",
            "799\n"
          ]
        }
      ]
    },
    {
      "cell_type": "code",
      "metadata": {
        "colab": {
          "base_uri": "https://localhost:8080/"
        },
        "id": "blugD9vPRTN5",
        "outputId": "c93ef171-358a-4dd2-c777-c3d6b81857b1"
      },
      "source": [
        "Texto = input('Digite Algo: ')\n",
        "\n",
        "def Ajustar_Texto(x):\n",
        "  x = x.lower()\n",
        "  return print( x )\n",
        "\n",
        "Ajustar_Texto(Texto)"
      ],
      "execution_count": null,
      "outputs": [
        {
          "output_type": "stream",
          "name": "stdout",
          "text": [
            "Digite Algo: OLA AMIFGOS\n",
            "ola amifgos\n"
          ]
        }
      ]
    },
    {
      "cell_type": "code",
      "metadata": {
        "colab": {
          "base_uri": "https://localhost:8080/"
        },
        "id": "LeMSettLTSfT",
        "outputId": "c1cde671-24f5-4b2a-c6be-530685fe53d2"
      },
      "source": [
        "Nome = str(input('Nome: '))\n",
        "Sobrenome = str(input('Sobrenome: '))\n",
        "Idade = int(input('Idade: '))\n",
        "\n",
        "def Cadastro(Nome, Sobrenome, Idade):\n",
        "\n",
        "  Dados = {\n",
        "      'Nome_Inserido' : Nome,\n",
        "      'Sobre' : Sobrenome,\n",
        "      'Idade' : Idade\n",
        "  }\n",
        "\n",
        "  return print( Dados)\n",
        "\n",
        "Cadastro(Nome, Sobrenome, Idade)"
      ],
      "execution_count": null,
      "outputs": [
        {
          "output_type": "stream",
          "name": "stdout",
          "text": [
            "Nome: aLYSSON\n",
            "Sobrenome: jOSE\n",
            "Idade: 12\n",
            "{'Nome_Inserido': 'aLYSSON', 'Sobre': 'jOSE', 'Idade': 12}\n"
          ]
        }
      ]
    },
    {
      "cell_type": "code",
      "metadata": {
        "id": "qxeapRhSTaAJ"
      },
      "source": [
        ""
      ],
      "execution_count": null,
      "outputs": []
    }
  ]
}