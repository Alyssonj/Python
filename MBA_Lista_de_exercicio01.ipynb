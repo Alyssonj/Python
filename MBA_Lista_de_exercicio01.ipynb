{
  "nbformat": 4,
  "nbformat_minor": 0,
  "metadata": {
    "colab": {
      "name": "Exercícios Aula 01.ipynb",
      "provenance": [],
      "collapsed_sections": [],
      "authorship_tag": "ABX9TyMHsLSEJv58WcgOSH6JoHmL",
      "include_colab_link": true
    },
    "kernelspec": {
      "name": "python3",
      "display_name": "Python 3"
    },
    "language_info": {
      "name": "python"
    }
  },
  "cells": [
    {
      "cell_type": "markdown",
      "metadata": {
        "id": "view-in-github",
        "colab_type": "text"
      },
      "source": [
        "<a href=\"https://colab.research.google.com/github/Alyssonj/Python/blob/main/MBA_Lista_de_exercicio01.ipynb\" target=\"_parent\"><img src=\"https://colab.research.google.com/assets/colab-badge.svg\" alt=\"Open In Colab\"/></a>"
      ]
    },
    {
      "cell_type": "code",
      "metadata": {
        "colab": {
          "base_uri": "https://localhost:8080/"
        },
        "id": "jYWutdz_S47Q",
        "outputId": "d90d01d4-7e30-4811-ac3e-fe71fe03951b"
      },
      "source": [
        "#1\n",
        "Valor1 = str(input('Qual seu nome:'))\n",
        "Valor2 = str(input('Qual seu sobrenome:'))\n",
        "print('Bem Vindo', Valor1 +' '+ Valor2+'!')"
      ],
      "execution_count": null,
      "outputs": [
        {
          "output_type": "stream",
          "name": "stdout",
          "text": [
            "Digite Valor:Alysson\n",
            "Digite Valor:Cruz\n",
            "Bem Vindo Alysson Cruz!\n"
          ]
        }
      ]
    },
    {
      "cell_type": "code",
      "metadata": {
        "colab": {
          "base_uri": "https://localhost:8080/"
        },
        "id": "tXTTWWxmVhpM",
        "outputId": "7f07412a-743e-45b2-9140-9137984d34d0"
      },
      "source": [
        "#2\n",
        "Valor1 = 6\n",
        "Valor2 = 7\n",
        "Divisão = round(Valor1/Valor2,2)\n",
        "print('O valor é:',Divisão)"
      ],
      "execution_count": null,
      "outputs": [
        {
          "output_type": "stream",
          "name": "stdout",
          "text": [
            "O valor é: 0.86\n"
          ]
        }
      ]
    },
    {
      "cell_type": "code",
      "metadata": {
        "colab": {
          "base_uri": "https://localhost:8080/"
        },
        "id": "2AANLxARXG2Z",
        "outputId": "2dad9ceb-e58f-4f6b-a5c6-4c1975855eca"
      },
      "source": [
        "#3\n",
        "Valor1 = 'Alysson'\n",
        "Valor2 = 'Cruz'\n",
        "print(Valor1+Valor2)"
      ],
      "execution_count": null,
      "outputs": [
        {
          "output_type": "stream",
          "name": "stdout",
          "text": [
            "AlyssonCruz\n"
          ]
        }
      ]
    },
    {
      "cell_type": "code",
      "metadata": {
        "colab": {
          "base_uri": "https://localhost:8080/"
        },
        "id": "KcbMe5MfYAvx",
        "outputId": "e252603b-ee50-4b2d-c942-c11c0671e196"
      },
      "source": [
        "#4\n",
        "Valor1 = int(input('Nota1:'))\n",
        "Valor2 = int(input('Nota2:'))\n",
        "Valor3 = int(input('Nota3:'))\n",
        "Valor4 = int(input('Nota4:'))\n",
        "print('A média das nota é:',round((Valor1+Valor2+Valor3+Valor4)/4,2))"
      ],
      "execution_count": null,
      "outputs": [
        {
          "output_type": "stream",
          "name": "stdout",
          "text": [
            "Nota1:6\n",
            "Nota2:8\n",
            "Nota3:7\n",
            "Nota4:6\n",
            "A média das nota é: 6.75\n"
          ]
        }
      ]
    },
    {
      "cell_type": "code",
      "metadata": {
        "colab": {
          "base_uri": "https://localhost:8080/"
        },
        "id": "tiVdvia6ZrnW",
        "outputId": "b103607f-f600-4527-e824-d1ee990b9dd5"
      },
      "source": [
        "#5\n",
        "Valor1 = int(input('V1:'))\n",
        "print('CM:',Valor1*100,\n",
        "      'MM:',Valor1*1000\n",
        ")"
      ],
      "execution_count": null,
      "outputs": [
        {
          "output_type": "stream",
          "name": "stdout",
          "text": [
            "V1:5\n",
            "CM: 500 MM: 5000\n"
          ]
        }
      ]
    },
    {
      "cell_type": "code",
      "metadata": {
        "colab": {
          "base_uri": "https://localhost:8080/"
        },
        "id": "CLtYqEtubFMg",
        "outputId": "02e8327a-ff77-44a1-fab3-c2c40219cffb"
      },
      "source": [
        "#6\n",
        "Valor1 = int(input('V1:'))\n",
        "print('x1:',Valor1*1)\n",
        "print('x2:',Valor1*2)\n",
        "print('x3:',Valor1*3)\n",
        "print('x4:',Valor1*4)\n",
        "print('x5:',Valor1*5)\n",
        "print('x6:',Valor1*6)\n",
        "print('x7:',Valor1*7)\n",
        "print('x8:',Valor1*8)\n",
        "print('x9:',Valor1*9)\n",
        "print('x10:',Valor1*10)"
      ],
      "execution_count": null,
      "outputs": [
        {
          "output_type": "stream",
          "name": "stdout",
          "text": [
            "V1:9\n",
            "x1: 9\n",
            "x2: 18\n",
            "x3: 27\n",
            "x4: 36\n",
            "x5: 45\n",
            "x6: 54\n",
            "x7: 63\n",
            "x8: 72\n",
            "x9: 81\n",
            "x10: 90\n"
          ]
        }
      ]
    },
    {
      "cell_type": "code",
      "metadata": {
        "colab": {
          "base_uri": "https://localhost:8080/",
          "height": 234
        },
        "id": "uN-_zVSqb2no",
        "outputId": "e980ccd2-ce7e-4227-8c5d-0e7fdfb62ad6"
      },
      "source": [
        "#7\n",
        "Real = int(input('Real:'))\n",
        "print('Dolar:',round(Real*5.61,2))\n",
        "print('Euro:',Real*6.35)"
      ],
      "execution_count": null,
      "outputs": [
        {
          "name": "stdout",
          "output_type": "stream",
          "text": [
            "Real:5,5\n"
          ]
        },
        {
          "output_type": "error",
          "ename": "ValueError",
          "evalue": "ignored",
          "traceback": [
            "\u001b[0;31m---------------------------------------------------------------------------\u001b[0m",
            "\u001b[0;31mValueError\u001b[0m                                Traceback (most recent call last)",
            "\u001b[0;32m<ipython-input-4-6bb3920e1464>\u001b[0m in \u001b[0;36m<module>\u001b[0;34m()\u001b[0m\n\u001b[1;32m      1\u001b[0m \u001b[0;31m#7\u001b[0m\u001b[0;34m\u001b[0m\u001b[0;34m\u001b[0m\u001b[0;34m\u001b[0m\u001b[0m\n\u001b[0;32m----> 2\u001b[0;31m \u001b[0mReal\u001b[0m \u001b[0;34m=\u001b[0m \u001b[0mint\u001b[0m\u001b[0;34m(\u001b[0m\u001b[0minput\u001b[0m\u001b[0;34m(\u001b[0m\u001b[0;34m'Real:'\u001b[0m\u001b[0;34m)\u001b[0m\u001b[0;34m)\u001b[0m\u001b[0;34m\u001b[0m\u001b[0;34m\u001b[0m\u001b[0m\n\u001b[0m\u001b[1;32m      3\u001b[0m \u001b[0mprint\u001b[0m\u001b[0;34m(\u001b[0m\u001b[0;34m'Dolar:'\u001b[0m\u001b[0;34m,\u001b[0m\u001b[0mround\u001b[0m\u001b[0;34m(\u001b[0m\u001b[0mReal\u001b[0m\u001b[0;34m*\u001b[0m\u001b[0;36m5.61\u001b[0m\u001b[0;34m,\u001b[0m\u001b[0;36m2\u001b[0m\u001b[0;34m)\u001b[0m\u001b[0;34m)\u001b[0m\u001b[0;34m\u001b[0m\u001b[0;34m\u001b[0m\u001b[0m\n\u001b[1;32m      4\u001b[0m \u001b[0mprint\u001b[0m\u001b[0;34m(\u001b[0m\u001b[0;34m'Euro:'\u001b[0m\u001b[0;34m,\u001b[0m\u001b[0mReal\u001b[0m\u001b[0;34m*\u001b[0m\u001b[0;36m6.35\u001b[0m\u001b[0;34m)\u001b[0m\u001b[0;34m\u001b[0m\u001b[0;34m\u001b[0m\u001b[0m\n",
            "\u001b[0;31mValueError\u001b[0m: invalid literal for int() with base 10: '5,5'"
          ]
        }
      ]
    },
    {
      "cell_type": "code",
      "metadata": {
        "colab": {
          "base_uri": "https://localhost:8080/"
        },
        "id": "yBSK51tmcXLC",
        "outputId": "86d856d7-ad07-4136-a71a-3697d993e137"
      },
      "source": [
        "#8\n",
        "import random\n",
        "P1 = str(input('Participante 1:'))\n",
        "P2 = str(input('Participante 2:'))\n",
        "P3 = str(input('Participante 3:'))\n",
        "P4 = str(input('Participante 4:'))\n",
        "P5 = str(input('Participante 5:'))\n",
        "P6 = str(input('Participante 6:'))\n",
        "Lista_De_Participantes = [P1,P2,P3,P4,P5,P6]\n",
        "x=random.choice(Lista_De_Participantes)\n",
        "print('O Sorteado foi:',x)"
      ],
      "execution_count": null,
      "outputs": [
        {
          "output_type": "stream",
          "name": "stdout",
          "text": [
            "Participante 1:Alysson\n",
            "Participante 2:Jose\n",
            "Participante 3:Cruz\n",
            "Participante 4:Barbosa\n",
            "Participante 5:Da Silva\n",
            "Participante 6:Junior\n",
            "O Sorteado foi: Da Silva\n"
          ]
        }
      ]
    },
    {
      "cell_type": "code",
      "metadata": {
        "colab": {
          "base_uri": "https://localhost:8080/"
        },
        "id": "ydguzWNNeRLx",
        "outputId": "2f5b1f62-a4a2-43bc-c964-4b5434a64e00"
      },
      "source": [
        "#9\n",
        "import random\n",
        "P1 = str(input('Participante 1:'))\n",
        "P2 = str(input('Participante 2:'))\n",
        "P3 = str(input('Participante 3:'))\n",
        "P4 = str(input('Participante 4:'))\n",
        "P5 = str(input('Participante 5:'))\n",
        "P6 = str(input('Participante 6:'))\n",
        "Lista_De_Participantes = [P1,P2,P3,P4,P5,P6]\n",
        "random.shuffle(Lista_De_Participantes)\n",
        "print('Ordem ficou assim: {}'.format(Lista_De_Participantes))"
      ],
      "execution_count": null,
      "outputs": [
        {
          "output_type": "stream",
          "name": "stdout",
          "text": [
            "Participante 1:a\n",
            "Participante 2:s\n",
            "Participante 3:f\n",
            "Participante 4:d\n",
            "Participante 5:e\n",
            "Participante 6:r\n",
            "Ordem ficou assim: ['a', 'r', 'e', 'f', 's', 'd']\n"
          ]
        }
      ]
    },
    {
      "cell_type": "code",
      "metadata": {
        "colab": {
          "base_uri": "https://localhost:8080/"
        },
        "id": "T1UrmPXgf7Pe",
        "outputId": "0665ae77-79a7-4108-e0e0-009640dbf67b"
      },
      "source": [
        "#10\n",
        "Nome = str(input('Nome:'))\n",
        "Sobrenome = str(input('Sobrenome:'))\n",
        "Sexo = str(input('Sexo:'))\n",
        "Idade = str(input('Idade:'))\n",
        "Estado = str(input('Estado:'))\n",
        "Cidade = str(input('Cidade:'))\n",
        "Dados = {\n",
        "    'Nome': Nome,\n",
        "    'Sobrenome': Sobrenome,\n",
        "    'Sexo': Sexo,\n",
        "    'Idade': Idade,\n",
        "    'Estado': Estado,\n",
        "    'Cidade': Cidade\n",
        "}\n",
        "print('Dados Informados',Dados)"
      ],
      "execution_count": null,
      "outputs": [
        {
          "output_type": "stream",
          "name": "stdout",
          "text": [
            "Nome:Alysson\n",
            "Sobrenome:Jose\n",
            "Sexo:Cruz\n",
            "Idade:26\n",
            "Estado:CE\n",
            "Cidade:Fortaleza\n",
            "Dados Informados {'Nome': 'Alysson', 'Sobrenome': 'Jose', 'Sexo': 'Cruz', 'Idade': '26', 'Estado': 'CE', 'Cidade': 'Fortaleza'}\n"
          ]
        }
      ]
    },
    {
      "cell_type": "code",
      "metadata": {
        "id": "yoo_g0-uv4Tk"
      },
      "source": [
        ""
      ],
      "execution_count": null,
      "outputs": []
    }
  ]
}